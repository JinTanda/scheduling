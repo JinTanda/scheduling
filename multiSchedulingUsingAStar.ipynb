{
 "cells": [
  {
   "cell_type": "code",
   "execution_count": 1,
   "metadata": {
    "collapsed": true
   },
   "outputs": [],
   "source": [
    "import numpy as np\n",
    "import copy\n",
    "from sklearn.neural_network import MLPClassifier\n",
    "from numpy.random import *\n",
    "from operator import itemgetter"
   ]
  },
  {
   "cell_type": "code",
   "execution_count": 2,
   "metadata": {
    "collapsed": true
   },
   "outputs": [],
   "source": [
    "def inputFieldData(text_path):\n",
    "    f = open(text_path)\n",
    "    line = f.readline()\n",
    "    line_count = 1\n",
    "    field_size = int(len(line) / 2)\n",
    "    field = np.empty((0,field_size),int)\n",
    "    agents_pos_list = [[6,1],[1,1],[5,6]]\n",
    "    goal_pos_list = [[1,1],[5,6],[6,1]]\n",
    "    while line:\n",
    "        last_idx = line.find(\"\\n\")\n",
    "        field_row = np.array([])\n",
    "        for i in range(0,last_idx,2):\n",
    "            field_row = np.append(field_row,int(line[i]))\n",
    "        field = np.append(field,np.array([field_row]),axis=0)\n",
    "        line = f.readline()\n",
    "        line_count += 1\n",
    "    f.close()\n",
    "    return field,agents_pos_list,goal_pos_list"
   ]
  },
  {
   "cell_type": "code",
   "execution_count": 3,
   "metadata": {
    "scrolled": false
   },
   "outputs": [
    {
     "name": "stdout",
     "output_type": "stream",
     "text": [
      "[[ 1.  1.  1.  1.  1.  1.  1.  1.]\n",
      " [ 1.  0.  0.  0.  0.  1.  0.  1.]\n",
      " [ 1.  0.  0.  1.  0.  1.  0.  1.]\n",
      " [ 1.  0.  1.  1.  0.  1.  0.  1.]\n",
      " [ 1.  0.  0.  0.  0.  1.  0.  1.]\n",
      " [ 1.  0.  1.  0.  0.  0.  0.  1.]\n",
      " [ 1.  0.  1.  0.  1.  1.  0.  1.]\n",
      " [ 1.  1.  1.  1.  1.  1.  1.  1.]]\n",
      "agents_pos_list = [[6, 1], [1, 1], [5, 6]]\n"
     ]
    }
   ],
   "source": [
    "field,agents_pos_list,goal_pos_list = inputFieldData(\"FieldTest.txt\")\n",
    "print(field)\n",
    "print(\"agents_pos_list = {0}\".format(agents_pos_list))"
   ]
  },
  {
   "cell_type": "code",
   "execution_count": 4,
   "metadata": {
    "collapsed": true
   },
   "outputs": [],
   "source": [
    "field_row = len(field[0])\n",
    "field_col = len(field)"
   ]
  },
  {
   "cell_type": "code",
   "execution_count": 5,
   "metadata": {
    "collapsed": true
   },
   "outputs": [],
   "source": [
    "alpha = 0.1\n",
    "q_gamma = 0.9\n",
    "now_pos_ground = 0"
   ]
  },
  {
   "cell_type": "markdown",
   "metadata": {},
   "source": [
    "## aboutAction\n",
    "action=0 : ↑\n",
    "action=1 : →\n",
    "action=2 : ↓\n",
    "action=3 : ←"
   ]
  },
  {
   "cell_type": "code",
   "execution_count": 6,
   "metadata": {
    "collapsed": true
   },
   "outputs": [],
   "source": [
    "def jumpToNextPos(pos,action):\n",
    "    if action == 0:\n",
    "        next_pos = [pos[0]-1,pos[1]]\n",
    "    elif action == 1:\n",
    "        next_pos = [pos[0],pos[1]+1]\n",
    "    elif action == 2:\n",
    "        next_pos = [pos[0]+1,pos[1]]\n",
    "    else:\n",
    "        next_pos = [pos[0],pos[1]-1]\n",
    "    return next_pos"
   ]
  },
  {
   "cell_type": "code",
   "execution_count": 7,
   "metadata": {
    "collapsed": true
   },
   "outputs": [],
   "source": [
    "def checkPosition(pos,action,field):\n",
    "    r = action\n",
    "    next_pos = jumpToNextPos(pos,action)\n",
    "    while field[next_pos[0],next_pos[1]] == 1:\n",
    "        r = int(rand()*4)\n",
    "        while r == action:\n",
    "            r = int(rand()*4)\n",
    "        next_pos = jumpToNextPos(pos,r)\n",
    "    return r"
   ]
  },
  {
   "cell_type": "code",
   "execution_count": 8,
   "metadata": {
    "collapsed": true
   },
   "outputs": [],
   "source": [
    "def buildNetwork(X_train,y_train):\n",
    "    clf = MLPClassifier(solver=\"adam\",random_state=1,max_iter=1000,hidden_layer_sizes=(20,50,10))\n",
    "    print(\"X_train.shape = {0},y_train.shape={1}\".format(X_train.shape,y_train.shape))\n",
    "    print(\"y_train={0}\".format(y_train))\n",
    "    clf.fit(X_train,y_train)\n",
    "    return clf"
   ]
  },
  {
   "cell_type": "code",
   "execution_count": 9,
   "metadata": {
    "collapsed": true
   },
   "outputs": [],
   "source": [
    "def initNetwork(field):\n",
    "    X_train = np.asarray([field])\n",
    "    X_train = X_train.reshape(1,field_row*field_col)\n",
    "    y_train = np.array([[0]])\n",
    "    clf = buildNetwork(X_train,y_train)\n",
    "    return clf"
   ]
  },
  {
   "cell_type": "code",
   "execution_count": 10,
   "metadata": {
    "collapsed": true
   },
   "outputs": [],
   "source": [
    "def predictAction(clf,field):\n",
    "    X_test = np.asarray(field).reshape(1,field_row*field_col)\n",
    "    action = clf.predict(X_test)[0]\n",
    "    if rand() < 0.3:\n",
    "        action = int((action + rand() * 3 + 1)) % 4\n",
    "    return action"
   ]
  },
  {
   "cell_type": "code",
   "execution_count": 11,
   "metadata": {
    "collapsed": true
   },
   "outputs": [],
   "source": [
    "def createTrainData(init_pos,field,goal_pos,clf=None):\n",
    "    createFlag = False\n",
    "    field_data = [copy.deepcopy(field)]\n",
    "    action_data = []\n",
    "    global now_pos_ground\n",
    "    pos = init_pos\n",
    "    for i in range(SEARCH_ROOT_MAX_LOOP):\n",
    "        if clf != None:\n",
    "            pred_action = predictAction(clf,field)\n",
    "        else:\n",
    "            pred_action = int(rand()*4)\n",
    "        action = checkPosition(pos,pred_action,field)\n",
    "        action_data.append(action)\n",
    "        next_pos = jumpToNextPos(pos,action)\n",
    "#         print(\"next_pos = {0}\".format(next_pos))\n",
    "        now_pos_ground = updateField(pos,next_pos,field)\n",
    "        if next_pos == goal_pos:\n",
    "#             printFieldData(field_data,action_data)\n",
    "            createFlag = True\n",
    "            break\n",
    "        field_data.append(copy.deepcopy(field))\n",
    "        pos = next_pos\n",
    "    return field_data,action_data,createFlag"
   ]
  },
  {
   "cell_type": "code",
   "execution_count": 12,
   "metadata": {
    "collapsed": true
   },
   "outputs": [],
   "source": [
    "def printFieldData(field_data,action_data):\n",
    "    print(\"------------------------------------------------\")\n",
    "    for i in range(len(field_data)):\n",
    "        print(field_data[i])\n",
    "        print(action_data[i])\n",
    "    print(\"------------------------------------------------\")"
   ]
  },
  {
   "cell_type": "code",
   "execution_count": 13,
   "metadata": {
    "collapsed": true
   },
   "outputs": [],
   "source": [
    "def updateField(pos,next_pos,field):\n",
    "    field[pos[0],pos[1]] = now_pos_ground\n",
    "    next_pos_ground = field[next_pos[0],next_pos[1]]\n",
    "    field[next_pos[0],next_pos[1]] = 2\n",
    "#     print(field)\n",
    "#     print(\"\\n\")\n",
    "    return next_pos_ground"
   ]
  },
  {
   "cell_type": "code",
   "execution_count": 15,
   "metadata": {
    "collapsed": true
   },
   "outputs": [],
   "source": [
    "SEARCH_ROOT_MAX_LOOP = 200 \n",
    "def searchPath(agent_num):\n",
    "    field,agents_pos_list,goal_pos_list = inputFieldData(\"FieldTest.txt\")\n",
    "    start_pos = agents_pos_list[agent_num]\n",
    "    goal_pos = goal_pos_list[agent_num]\n",
    "    print(\"init_field = \\n{0}\".format(field))\n",
    "    clf = None\n",
    "    path_count = 1e+7\n",
    "    pathes = []\n",
    "    for i in range(100):\n",
    "        createFlag = False\n",
    "        now_pos_ground = 0\n",
    "        if (i+1) % 10 == 0:\n",
    "            print(\"epoch = {0}\".format(i+1))\n",
    "        field_data,action_data,createFlag = createTrainData(start_pos,field,goal_pos,clf)\n",
    "        if createFlag:\n",
    "            np_field_data = np.asarray(field_data)\n",
    "            np_action_data = np.asarray(action_data)\n",
    "            if path_count > np_field_data.shape[0]:\n",
    "                path_count = np_field_data.shape[0]\n",
    "                clf = buildNetwork(np_field_data.reshape(np_field_data.shape[0],np_field_data.shape[1]*np_field_data.shape[2]),np_action_data)\n",
    "                pathes.append([action_data,len(action_data)])\n",
    "    return pathes"
   ]
  },
  {
   "cell_type": "code",
   "execution_count": 17,
   "metadata": {
    "collapsed": true
   },
   "outputs": [
    {
     "name": "stdout",
     "output_type": "stream",
     "text": [
      "init_field = \n",
      "[[ 1.  1.  1.  1.  1.  1.  1.  1.]\n",
      " [ 1.  0.  0.  0.  0.  1.  0.  1.]\n",
      " [ 1.  0.  0.  1.  0.  1.  0.  1.]\n",
      " [ 1.  0.  1.  1.  0.  1.  0.  1.]\n",
      " [ 1.  0.  0.  0.  0.  1.  0.  1.]\n",
      " [ 1.  0.  1.  0.  0.  0.  0.  1.]\n",
      " [ 1.  0.  1.  0.  1.  1.  0.  1.]\n",
      " [ 1.  1.  1.  1.  1.  1.  1.  1.]]\n",
      "X_train.shape = (11, 64),y_train.shape=(11,)\n",
      "y_train=[0 0 1 3 0 2 1 3 0 0 0]\n",
      "X_train.shape = (5, 64),y_train.shape=(5,)\n",
      "y_train=[0 0 0 0 0]\n",
      "epoch = 10\n",
      "epoch = 20\n",
      "epoch = 30\n",
      "epoch = 40\n",
      "epoch = 50\n",
      "epoch = 60\n",
      "epoch = 70\n",
      "epoch = 80\n",
      "epoch = 90\n",
      "epoch = 100\n",
      "init_field = \n",
      "[[ 1.  1.  1.  1.  1.  1.  1.  1.]\n",
      " [ 1.  0.  0.  0.  0.  1.  0.  1.]\n",
      " [ 1.  0.  0.  1.  0.  1.  0.  1.]\n",
      " [ 1.  0.  1.  1.  0.  1.  0.  1.]\n",
      " [ 1.  0.  0.  0.  0.  1.  0.  1.]\n",
      " [ 1.  0.  1.  0.  0.  0.  0.  1.]\n",
      " [ 1.  0.  1.  0.  1.  1.  0.  1.]\n",
      " [ 1.  1.  1.  1.  1.  1.  1.  1.]]\n",
      "X_train.shape = (153, 64),y_train.shape=(153,)\n",
      "y_train=[1 3 2 0 1 1 3 2 3 1 0 3 2 2 0 1 0 1 1 3 3 1 1 2 2 2 2 1 3 0 0 0 0 3 3 2 0\n",
      " 2 0 3 2 0 1 2 3 1 3 0 1 3 1 2 3 2 2 1 3 1 1 2 0 1 3 3 1 2 1 3 0 2 2 0 1 3\n",
      " 2 0 0 3 3 2 2 0 2 0 2 0 0 0 0 2 2 2 0 1 3 1 1 3 3 0 2 0 0 0 2 0 1 3 1 1 3\n",
      " 1 1 3 3 1 3 2 3 0 2 2 2 1 3 1 3 2 0 2 2 0 2 0 0 2 0 0 0 2 0 2 2 1 1 1 2 3\n",
      " 1 1 3 1 1]\n",
      "X_train.shape = (51, 64),y_train.shape=(51,)\n",
      "y_train=[1 1 3 1 3 1 3 1 1 3 3 1 1 3 1 2 0 3 1 3 3 1 3 1 1 3 1 2 0 3 1 2 2 0 0 3 1\n",
      " 3 1 3 1 2 2 2 2 1 3 0 2 1 1]\n",
      "X_train.shape = (47, 64),y_train.shape=(47,)\n",
      "y_train=[2 1 0 1 3 1 3 1 3 2 3 2 2 1 1 2 2 0 0 1 0 0 0 3 1 3 1 2 0 3 1 2 0 3 1 2 2\n",
      " 2 3 3 1 2 1 0 2 1 1]\n",
      "X_train.shape = (25, 64),y_train.shape=(25,)\n",
      "y_train=[2 2 2 1 1 3 1 2 0 2 2 0 2 0 1 3 2 0 0 2 1 0 2 1 1]\n",
      "X_train.shape = (11, 64),y_train.shape=(11,)\n",
      "y_train=[2 2 2 1 1 2 1 0 2 1 1]\n",
      "X_train.shape = (9, 64),y_train.shape=(9,)\n",
      "y_train=[2 2 2 1 1 2 1 1 1]\n",
      "epoch = 10\n",
      "epoch = 20\n",
      "epoch = 30\n",
      "epoch = 40\n",
      "epoch = 50\n",
      "epoch = 60\n",
      "epoch = 70\n",
      "epoch = 80\n",
      "epoch = 90\n",
      "epoch = 100\n",
      "init_field = \n",
      "[[ 1.  1.  1.  1.  1.  1.  1.  1.]\n",
      " [ 1.  0.  0.  0.  0.  1.  0.  1.]\n",
      " [ 1.  0.  0.  1.  0.  1.  0.  1.]\n",
      " [ 1.  0.  1.  1.  0.  1.  0.  1.]\n",
      " [ 1.  0.  0.  0.  0.  1.  0.  1.]\n",
      " [ 1.  0.  1.  0.  0.  0.  0.  1.]\n",
      " [ 1.  0.  1.  0.  1.  1.  0.  1.]\n",
      " [ 1.  1.  1.  1.  1.  1.  1.  1.]]\n",
      "X_train.shape = (28, 64),y_train.shape=(28,)\n",
      "y_train=[2 0 2 0 3 1 3 3 3 1 1 3 3 2 0 1 0 3 1 3 3 3 0 0 2 2 2 2]\n",
      "epoch = 10\n",
      "epoch = 20\n",
      "X_train.shape = (12, 64),y_train.shape=(12,)\n",
      "y_train=[3 3 1 3 0 2 0 3 3 3 2 2]\n",
      "epoch = 30\n",
      "epoch = 40\n",
      "X_train.shape = (8, 64),y_train.shape=(8,)\n",
      "y_train=[3 3 3 0 3 3 2 2]\n",
      "epoch = 50\n",
      "epoch = 60\n",
      "epoch = 70\n",
      "epoch = 80\n",
      "epoch = 90\n",
      "epoch = 100\n"
     ]
    }
   ],
   "source": [
    "pathes_list = [searchPath(i) for i in range(len(agents_pos_list))]"
   ]
  },
  {
   "cell_type": "code",
   "execution_count": null,
   "metadata": {
    "collapsed": true
   },
   "outputs": [],
   "source": [
    "for (i,pathes)  in enumerate(pathes_list):\n",
    "    print(\"agents_num = {0}\".format(i+1))\n",
    "    print(\"pathes = \")\n",
    "    for path in pathes:\n",
    "        print(path)\n",
    "    print(\"\\n\")\n",
    "\n",
    "#modify path\n",
    "for (i,pathes) in enumerate(pathes_list):\n",
    "    for path_array in pathes:\n",
    "        path = path_array[0]\n",
    "        del_flag = True\n",
    "        print(\"before modifying path : \\n{0}\".format(path))\n",
    "        while del_flag == True:\n",
    "            del_flag = False\n",
    "            for i in range(len(path)):\n",
    "                if i+1 < len(path):\n",
    "                    if path[i]%2 == path[i+1]%2 and not(path[i] == path[i+1]):\n",
    "                        del path[i+1]\n",
    "                        del path[i]\n",
    "                        del_flag == True\n",
    "        print(\"after modifying path: \\n{0}\".format(path))\n",
    "        path_array[1] = len(path)"
   ]
  },
  {
   "cell_type": "code",
   "execution_count": 24,
   "metadata": {
    "collapsed": true
   },
   "outputs": [],
   "source": [
    "#sort\n",
    "sorted_pathes_list = []\n",
    "for pathes_array in pathes_list:\n",
    "    pathes_array.sort(key=itemgetter(1))\n",
    "    pathes = []\n",
    "    for path_data in pathes_array:\n",
    "        path = path_data[0]\n",
    "#         print(\"path = {0}\".format(path))\n",
    "        pathes.append(path)\n",
    "    sorted_pathes_list.append(pathes)\n",
    "# for i in range(len(sorted_pathes_list[0])):\n",
    "#     print(sorted_pathes_list[0][i])"
   ]
  },
  {
   "cell_type": "code",
   "execution_count": 49,
   "metadata": {},
   "outputs": [
    {
     "name": "stdout",
     "output_type": "stream",
     "text": [
      "[[0, 0, 0, 0, 0], [2, 2, 2, 1, 1, 2, 1, 1, 1], [3, 3, 0, 3, 3, 3, 2, 2]]\n"
     ]
    }
   ],
   "source": [
    "best_pathes = []\n",
    "for i in range(len(pathes_list)):\n",
    "    best_pathes.append(pathes_list[i][0][0])\n",
    "print(best_pathes)\n",
    "max_path_num = max(len(best_pathes[0]),len(best_pathes[1]),len(best_pathes[2]))"
   ]
  },
  {
   "cell_type": "code",
   "execution_count": 55,
   "metadata": {
    "collapsed": true
   },
   "outputs": [],
   "source": [
    "def checkNextTimeStep(current_field,next_field,current_pos,next_pos):\n",
    "    if next_field[next_pos[0],next_pos[1]] == 2: #if agents will corrupt at the same point in next time step\n",
    "        return False\n",
    "    elif current_field[next_pos[0],next_pos[1]] == 2 and next_field[pos[0],pos[1]] == 2: #if agents will cross each other\n",
    "        return False\n",
    "    else:\n",
    "        return True"
   ]
  },
  {
   "cell_type": "code",
   "execution_count": 59,
   "metadata": {},
   "outputs": [],
   "source": [
    "MAX_LOOP = 100\n",
    "for i in range(MAX_LOOP):\n",
    "    field,agents_pos_list,goal_pos_list = inputFieldData(\"FieldTest.txt\")\n",
    "    init_field = copy.deepcopy(field)\n",
    "    for agent_pos in agents_pos_list:\n",
    "        init_field[agent_pos[0],agent_pos[1]] = 2\n",
    "    fields_data = [init_field]\n",
    "    for j in range(max_path_num):\n",
    "        current_field = fields_data[j]\n",
    "        if j+1 < len(fields_data):\n",
    "            next_field = fields_data[j+1]\n",
    "        else:\n",
    "            next_field = copy.deepcopy(current_field)\n",
    "            fields_data.append(next_field)\n",
    "        \n",
    "        corrupt_flag = False\n",
    "        moved_poses = []\n",
    "        for k in range(len(agents_pos_list)):\n",
    "            pos = agents_pos_list[k]\n",
    "            if j < len(best_pathes[k]):\n",
    "                action = best_pathes[k][j]\n",
    "                next_pos = jumpToNextPos(pos,action)\n",
    "            else:\n",
    "                next_pos = pos\n",
    "            if checkNextTimeStep(current_field,next_field,pos,next_pos):\n",
    "                moved_poses.append(next_pos)\n",
    "            else:\n",
    "                corrupt_flag = True\n",
    "                break            \n",
    "        if corrupt_flag:\n",
    "            break\n",
    "        else:\n",
    "            # if all agents will be able to move to next position\n",
    "            for k in range(len(agents_pos_list)):\n",
    "                current_field[agents_pos_list[k][0],agents_pos_list[k][1]] = 0\n",
    "                next_field[moved_poses[k][0],moved_poses[k][1]] = 2"
   ]
  },
  {
   "cell_type": "code",
   "execution_count": null,
   "metadata": {
    "collapsed": true
   },
   "outputs": [],
   "source": []
  },
  {
   "cell_type": "code",
   "execution_count": null,
   "metadata": {
    "collapsed": true
   },
   "outputs": [],
   "source": []
  },
  {
   "cell_type": "code",
   "execution_count": 32,
   "metadata": {
    "collapsed": true
   },
   "outputs": [],
   "source": [
    "field_data_string =  []\n",
    "for field in field_data:\n",
    "    field_string = []\n",
    "    for i in range(len(field)):\n",
    "        field_string_col = []\n",
    "        for j in range(len(field[0])):\n",
    "            if field[i][j] == 0:\n",
    "                field_string_col.append(\"｜\")\n",
    "            elif field[i][j] == 1:\n",
    "                field_string_col.append(\"■\")\n",
    "            elif field[i][j] == 2:\n",
    "                field_string_col.append(\"□\")\n",
    "        field_string.append(field_string_col)\n",
    "    field_data_string.append(field_string)"
   ]
  },
  {
   "cell_type": "code",
   "execution_count": 33,
   "metadata": {
    "scrolled": true
   },
   "outputs": [
    {
     "name": "stdout",
     "output_type": "stream",
     "text": [
      "['■', '■', '■', '■', '■', '■', '■', '■']\n",
      "['■', '□', '｜', '｜', '｜', '■', '｜', '■']\n",
      "['■', '｜', '｜', '■', '｜', '■', '｜', '■']\n",
      "['■', '｜', '■', '■', '｜', '■', '｜', '■']\n",
      "['■', '｜', '｜', '｜', '｜', '■', '｜', '■']\n",
      "['■', '｜', '■', '｜', '｜', '｜', '□', '■']\n",
      "['■', '□', '■', '｜', '■', '■', '｜', '■']\n",
      "['■', '■', '■', '■', '■', '■', '■', '■']\n",
      "----------\n",
      "['■', '■', '■', '■', '■', '■', '■', '■']\n",
      "['■', '｜', '□', '｜', '｜', '■', '｜', '■']\n",
      "['■', '｜', '｜', '■', '｜', '■', '｜', '■']\n",
      "['■', '｜', '■', '■', '｜', '■', '｜', '■']\n",
      "['■', '｜', '｜', '｜', '｜', '■', '｜', '■']\n",
      "['■', '□', '■', '｜', '｜', '□', '｜', '■']\n",
      "['■', '｜', '■', '｜', '■', '■', '｜', '■']\n",
      "['■', '■', '■', '■', '■', '■', '■', '■']\n",
      "----------\n",
      "['■', '■', '■', '■', '■', '■', '■', '■']\n",
      "['■', '｜', '｜', '□', '｜', '■', '｜', '■']\n",
      "['■', '｜', '｜', '■', '｜', '■', '｜', '■']\n",
      "['■', '｜', '■', '■', '｜', '■', '｜', '■']\n",
      "['■', '□', '｜', '｜', '｜', '■', '｜', '■']\n",
      "['■', '｜', '■', '｜', '□', '｜', '｜', '■']\n",
      "['■', '｜', '■', '｜', '■', '■', '｜', '■']\n",
      "['■', '■', '■', '■', '■', '■', '■', '■']\n",
      "----------\n",
      "['■', '■', '■', '■', '■', '■', '■', '■']\n",
      "['■', '｜', '｜', '｜', '□', '■', '｜', '■']\n",
      "['■', '｜', '｜', '■', '｜', '■', '｜', '■']\n",
      "['■', '□', '■', '■', '｜', '■', '｜', '■']\n",
      "['■', '｜', '｜', '｜', '□', '■', '｜', '■']\n",
      "['■', '｜', '■', '｜', '｜', '｜', '｜', '■']\n",
      "['■', '｜', '■', '｜', '■', '■', '｜', '■']\n",
      "['■', '■', '■', '■', '■', '■', '■', '■']\n",
      "----------\n",
      "['■', '■', '■', '■', '■', '■', '■', '■']\n",
      "['■', '｜', '｜', '｜', '｜', '■', '｜', '■']\n",
      "['■', '□', '｜', '■', '□', '■', '｜', '■']\n",
      "['■', '｜', '■', '■', '｜', '■', '｜', '■']\n",
      "['■', '｜', '｜', '□', '｜', '■', '｜', '■']\n",
      "['■', '｜', '■', '｜', '｜', '｜', '｜', '■']\n",
      "['■', '｜', '■', '｜', '■', '■', '｜', '■']\n",
      "['■', '■', '■', '■', '■', '■', '■', '■']\n",
      "----------\n",
      "['■', '■', '■', '■', '■', '■', '■', '■']\n",
      "['■', '□', '｜', '｜', '｜', '■', '｜', '■']\n",
      "['■', '｜', '｜', '■', '｜', '■', '｜', '■']\n",
      "['■', '｜', '■', '■', '□', '■', '｜', '■']\n",
      "['■', '｜', '□', '｜', '｜', '■', '｜', '■']\n",
      "['■', '｜', '■', '｜', '｜', '｜', '｜', '■']\n",
      "['■', '｜', '■', '｜', '■', '■', '｜', '■']\n",
      "['■', '■', '■', '■', '■', '■', '■', '■']\n",
      "----------\n",
      "['■', '■', '■', '■', '■', '■', '■', '■']\n",
      "['■', '□', '｜', '｜', '｜', '■', '｜', '■']\n",
      "['■', '｜', '｜', '■', '｜', '■', '｜', '■']\n",
      "['■', '｜', '■', '■', '｜', '■', '｜', '■']\n",
      "['■', '□', '｜', '｜', '□', '■', '｜', '■']\n",
      "['■', '｜', '■', '｜', '｜', '｜', '｜', '■']\n",
      "['■', '｜', '■', '｜', '■', '■', '｜', '■']\n",
      "['■', '■', '■', '■', '■', '■', '■', '■']\n",
      "----------\n",
      "['■', '■', '■', '■', '■', '■', '■', '■']\n",
      "['■', '□', '｜', '｜', '｜', '■', '｜', '■']\n",
      "['■', '｜', '｜', '■', '｜', '■', '｜', '■']\n",
      "['■', '｜', '■', '■', '｜', '■', '｜', '■']\n",
      "['■', '｜', '｜', '｜', '｜', '■', '｜', '■']\n",
      "['■', '□', '■', '｜', '□', '｜', '｜', '■']\n",
      "['■', '｜', '■', '｜', '■', '■', '｜', '■']\n",
      "['■', '■', '■', '■', '■', '■', '■', '■']\n",
      "----------\n",
      "['■', '■', '■', '■', '■', '■', '■', '■']\n",
      "['■', '□', '｜', '｜', '｜', '■', '｜', '■']\n",
      "['■', '｜', '｜', '■', '｜', '■', '｜', '■']\n",
      "['■', '｜', '■', '■', '｜', '■', '｜', '■']\n",
      "['■', '｜', '｜', '｜', '｜', '■', '｜', '■']\n",
      "['■', '｜', '■', '｜', '｜', '□', '｜', '■']\n",
      "['■', '□', '■', '｜', '■', '■', '｜', '■']\n",
      "['■', '■', '■', '■', '■', '■', '■', '■']\n",
      "----------\n",
      "['■', '■', '■', '■', '■', '■', '■', '■']\n",
      "['■', '□', '｜', '｜', '｜', '■', '｜', '■']\n",
      "['■', '｜', '｜', '■', '｜', '■', '｜', '■']\n",
      "['■', '｜', '■', '■', '｜', '■', '｜', '■']\n",
      "['■', '｜', '｜', '｜', '｜', '■', '｜', '■']\n",
      "['■', '｜', '■', '｜', '｜', '｜', '□', '■']\n",
      "['■', '□', '■', '｜', '■', '■', '｜', '■']\n",
      "['■', '■', '■', '■', '■', '■', '■', '■']\n",
      "----------\n"
     ]
    }
   ],
   "source": [
    "for i in range(len(field_data_string)):\n",
    "    new_field = field_data_string[i]\n",
    "    for row in new_field:\n",
    "        print(row)\n",
    "    print(\"----------\")"
   ]
  },
  {
   "cell_type": "code",
   "execution_count": null,
   "metadata": {
    "collapsed": true
   },
   "outputs": [],
   "source": []
  }
 ],
 "metadata": {
  "kernelspec": {
   "display_name": "Python 3",
   "language": "python",
   "name": "python3"
  },
  "language_info": {
   "codemirror_mode": {
    "name": "ipython",
    "version": 3
   },
   "file_extension": ".py",
   "mimetype": "text/x-python",
   "name": "python",
   "nbconvert_exporter": "python",
   "pygments_lexer": "ipython3",
   "version": "3.4.3"
  }
 },
 "nbformat": 4,
 "nbformat_minor": 2
}
