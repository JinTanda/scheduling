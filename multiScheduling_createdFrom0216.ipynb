{
 "cells": [
  {
   "cell_type": "code",
   "execution_count": 122,
   "metadata": {
    "collapsed": true
   },
   "outputs": [],
   "source": [
    "import numpy as np\n",
    "import copy\n",
    "from sklearn.neural_network import MLPRegressor\n",
    "from numpy.random import *\n",
    "from operator import itemgetter"
   ]
  },
  {
   "cell_type": "markdown",
   "metadata": {},
   "source": [
    "# 1.InputFieldData"
   ]
  },
  {
   "cell_type": "code",
   "execution_count": 445,
   "metadata": {
    "collapsed": true
   },
   "outputs": [],
   "source": [
    "def sortPosInfo(pos_list_with_num,info_name):\n",
    "    np_pos_list_with_num = np.asarray(pos_list_with_num)\n",
    "    sorted_np_pos_list_with_num = np.array(sorted(np_pos_list_with_num,key=itemgetter(1)))\n",
    "    pos_list = []\n",
    "    for pos_info in sorted_np_pos_list_with_num:\n",
    "        pos_list.append(pos_info[0])\n",
    "    print(\"{0} = {1}\".format(info_name,pos_list))\n",
    "    return pos_list"
   ]
  },
  {
   "cell_type": "code",
   "execution_count": 448,
   "metadata": {},
   "outputs": [],
   "source": [
    "def inputFieldData(text_path):\n",
    "    f = open(text_path)\n",
    "    line = f.readline()\n",
    "    line_count = 1\n",
    "    field_size = int(len(line) / 2)\n",
    "    field = np.empty((0,field_size),int)\n",
    "    agents_pos_list = []\n",
    "    goal_pos_list = []\n",
    "    while line:\n",
    "        last_idx = line.find(\"\\n\")\n",
    "        field_row = np.array([])\n",
    "        for i in range(0,last_idx,2):\n",
    "            field_row = np.append(field_row,int(line[i]))\n",
    "            if int(line[i]) % 2 == 0 and int(line[i]) != 0:\n",
    "                agent_data = np.array([np.array([line_count-1,int(i/2)]),int(line[i])])\n",
    "                agents_pos_list.append(agent_data)\n",
    "            if int(line[i]) % 2 == 1 and int(line[i]) != 1:\n",
    "                goal_data = np.array([np.array([line_count-1,int(i/2)]),int(line[i])])\n",
    "                goal_pos_list.append(goal_data)\n",
    "        field = np.append(field,np.array([field_row]),axis=0)\n",
    "        line = f.readline()\n",
    "        line_count += 1\n",
    "    f.close()\n",
    "    print(\"init field = \\n {0}\".format(field))\n",
    "    agents_pos_list = sortPosInfo(agents_pos_list,\"agents_pos_list\")\n",
    "    goal_pos_list = sortPosInfo(goal_pos_list,\"goal_pos_list\")\n",
    "    return field,agents_pos_list,goal_pos_list"
   ]
  },
  {
   "cell_type": "code",
   "execution_count": 481,
   "metadata": {},
   "outputs": [
    {
     "name": "stdout",
     "output_type": "stream",
     "text": [
      "init field = \n",
      " [[ 1.  1.  1.  1.  1.  1.  1.  1.  1.]\n",
      " [ 1.  0.  0.  4.  0.  2.  0.  0.  1.]\n",
      " [ 1.  0.  1.  7.  1.  3.  0.  0.  1.]\n",
      " [ 1.  0.  1.  0.  1.  0.  1.  0.  1.]\n",
      " [ 1.  0.  1.  6.  0.  0.  1.  0.  1.]\n",
      " [ 1.  0.  0.  0.  0.  0.  5.  0.  1.]\n",
      " [ 1.  1.  1.  1.  1.  1.  1.  1.  1.]]\n",
      "agents_pos_list = [array([1, 5]), array([1, 3]), array([4, 3])]\n",
      "goal_pos_list = [array([2, 5]), array([5, 6]), array([2, 3])]\n"
     ]
    }
   ],
   "source": [
    "init_field,agents_pos_list,goal_pos_list = inputFieldData(\"test.txt\")\n",
    "field_row = len(init_field[0])\n",
    "field_col = len(init_field)"
   ]
  },
  {
   "cell_type": "markdown",
   "metadata": {},
   "source": [
    "# 2.DecideActions"
   ]
  },
  {
   "cell_type": "code",
   "execution_count": 482,
   "metadata": {
    "collapsed": true
   },
   "outputs": [],
   "source": [
    "def moveToNextPos(pos,action):\n",
    "    if action == 0:\n",
    "        next_pos = [pos[0]-1,pos[1]]\n",
    "    elif action == 1:\n",
    "        next_pos = [pos[0],pos[1]+1]\n",
    "    elif action == 2:\n",
    "        next_pos = [pos[0]+1,pos[1]]\n",
    "    elif action== 3:\n",
    "        next_pos = [pos[0],pos[1]-1]\n",
    "    else:\n",
    "        next_pos = [pos[0],pos[1]]\n",
    "    return next_pos"
   ]
  },
  {
   "cell_type": "code",
   "execution_count": 483,
   "metadata": {},
   "outputs": [],
   "source": [
    "def buildNetwork(X_train,y_train):\n",
    "    clf = MLPRegressor(solver=\"adam\",random_state=1,max_iter=1000,hidden_layer_sizes=(20,50,10))\n",
    "    print(\"X_train.shape = {0} , y_train.shape = {1}\".format(X_train.shape,y_train.shape))\n",
    "    clf.fit(X_train,y_train)\n",
    "    return clf"
   ]
  },
  {
   "cell_type": "code",
   "execution_count": 635,
   "metadata": {
    "collapsed": true
   },
   "outputs": [],
   "source": [
    "def checkNextField(poses,next_poses,field,agent_num):\n",
    "    next_pos = next_poses[agent_num]\n",
    "    action_flag = True\n",
    "    #行動先が行動可能かどうか判定\n",
    "    if field[next_pos[0],next_pos[1]] != 1: #行動先が壁でないとき\n",
    "        for j in range(len(next_poses)):\n",
    "            #行動先に先約があるとき\n",
    "            if agent_num == j: continue\n",
    "            if next_poses[agent_num] == next_poses[j]:\n",
    "                action_flag = False\n",
    "            #他エージェントと交差するとき\n",
    "            if next_poses[agent_num] == poses[j] and next_poses[j] == poses[agent_num]:\n",
    "                action_flag = False\n",
    "    else:\n",
    "        action_flag = False\n",
    "    return action_flag"
   ]
  },
  {
   "cell_type": "code",
   "execution_count": 636,
   "metadata": {},
   "outputs": [],
   "source": [
    "def checkAchievingGoal(poses,goal_flags):\n",
    "    for i in range(len(poses)):\n",
    "        if poses[i] == goal_pos_list[i].tolist():\n",
    "            goal_flags[i] = True\n",
    "    return goal_flags"
   ]
  },
  {
   "cell_type": "code",
   "execution_count": 661,
   "metadata": {},
   "outputs": [],
   "source": [
    "def checkActions(pred_actions,field,poses,goal_flags):\n",
    "    next_poses = []\n",
    "    for i in range(len(pred_actions)):\n",
    "        next_poses.append(moveToNextPos(poses[i],pred_actions[i]))\n",
    "        goal_flags = checkAchievingGoal(poses,goal_flags)\n",
    "        if goal_flags[i]:\n",
    "            pred_actions[i] = 4\n",
    "            next_poses[i] = moveToNextPos(poses[i],pred_actions[i])\n",
    "    for i in range(len(next_poses)):\n",
    "        if goal_flags[i]:\n",
    "            continue\n",
    "        #行動先が行動可能かどうか判定\n",
    "        action_flag = checkNextField(poses,next_poses,field,i)\n",
    "        #行動不可能なとき，注目するエージェントの行動先を変更\n",
    "        cnt = 0\n",
    "        while action_flag == False:\n",
    "            pred_actions[i] = int(pred_actions[i] + rand() * 3 + 1) % 4\n",
    "            next_poses[i] = moveToNextPos(poses[i],pred_actions[i])\n",
    "            action_flag = checkNextField(poses,next_poses,field,i)\n",
    "            cnt += 1\n",
    "            if cnt > 10000:\n",
    "                pred_actions[i] = 4\n",
    "                break\n",
    "    goal_flags = checkAchievingGoal(poses,goal_flags)\n",
    "    for i in range(len(goal_flags)):\n",
    "        if goal_flags[i]:\n",
    "            pred_actions[i] = 4 #停止\n",
    "    return pred_actions"
   ]
  },
  {
   "cell_type": "code",
   "execution_count": 662,
   "metadata": {
    "collapsed": true
   },
   "outputs": [],
   "source": [
    "def predictActions(clf,field):\n",
    "    X_test = np.asarray(field).reshape(1,field_row*field_col)\n",
    "    actions = clf.predict(X_test)[0]\n",
    "    for i in range(len(actions)):\n",
    "        actions[i] = int(actions[i])\n",
    "        \n",
    "    if rand() < 0.3:\n",
    "        for i in range(len(actions)):\n",
    "            actions[i] = int(actions[i] + rand() * 3 + 1) % 4\n",
    "    return actions"
   ]
  },
  {
   "cell_type": "code",
   "execution_count": 663,
   "metadata": {},
   "outputs": [],
   "source": [
    "#特殊地点：エージェントのゴール地点\n",
    "def updateField(poses,next_poses,field):\n",
    "    for i in range(len(agents_pos_list)):\n",
    "        pos = poses[i]\n",
    "        next_pos = next_poses[i]\n",
    "        #エージェントがいずれかの方向に進行する場合\n",
    "        if pos != next_pos:\n",
    "            #現在いる地点が特殊地点でないとき\n",
    "            if field[pos[0],pos[1]] % 2 == 0:\n",
    "                field[pos[0],pos[1]] = 0\n",
    "            #現在いる地点が特殊地点のときは現在地の値は変更しない\n",
    "            \n",
    "            #遷移先が特殊地点でないとき\n",
    "            if field[next_pos[0],next_pos[1]] % 2 == 0:\n",
    "                field[next_pos[0],next_pos[1]] = i*2 + 2\n",
    "            #遷移先が特殊地点のときは遷移先の値は変更しない"
   ]
  },
  {
   "cell_type": "code",
   "execution_count": 664,
   "metadata": {
    "collapsed": true
   },
   "outputs": [],
   "source": [
    "def printFieldData(field_data,action_data):\n",
    "    for i in range(len(field_data)):\n",
    "        print(field_data[i])\n",
    "        print(action_data[i])\n",
    "    print(\"--------------------------------------------------\")"
   ]
  },
  {
   "cell_type": "code",
   "execution_count": 700,
   "metadata": {
    "collapsed": true
   },
   "outputs": [],
   "source": [
    "def createTrainData(init_field,init_poses,clf,path_count,best_field_data,best_action_data):\n",
    "    field_data = [copy.deepcopy(init_field)]\n",
    "    field = copy.deepcopy(init_field)\n",
    "    poses = init_poses\n",
    "    action_data = []\n",
    "    goal_flags = [False for i in range(len(poses))]\n",
    "    create_flag = False\n",
    "    for i in range(FIND_ROOT_MAX_LOOP):\n",
    "        if clf != None:\n",
    "            pred_actions = predictActions(clf,field)\n",
    "        else:\n",
    "            pred_actions = [int(rand()*4) for i in range(len(agents_pos_list))]\n",
    "        #予測したアクションに対してチェックを行い，壁や他エージェントにぶつかる挙動を変更する\n",
    "        actions = checkActions(pred_actions,field,poses,goal_flags)\n",
    "        #タイムステップ毎のアクションを保持するaction_dataの末尾に次の行動を追加\n",
    "        action_data.append(actions)\n",
    "        #actionsを元に次のfieldへと遷移させる\n",
    "        next_poses = []\n",
    "        for j in range(len(agents_pos_list)):\n",
    "            next_poses.append(moveToNextPos(poses[j],actions[j]))\n",
    "        updateField(poses,next_poses,field)\n",
    "        field_data.append(copy.deepcopy(field))\n",
    "        poses = next_poses\n",
    "        if goal_flags[0] and goal_flags[1] and goal_flags[2]:\n",
    "            action_data.append([4,4,4])\n",
    "            np_field_data = np.asarray(field_data)\n",
    "            np_action_data = np.asarray(action_data)\n",
    "            if path_count > np_field_data.shape[0]:\n",
    "                path_count = np_field_data.shape[0]\n",
    "                clf = buildNetwork(np_field_data.reshape(np_field_data.shape[0],np_field_data.shape[1]*np_field_data.shape[2]),np_action_data)\n",
    "#                 printFieldData(field_data,action_data)\n",
    "                best_field_data = copy.deepcopy(field_data)\n",
    "                best_action_data = copy.deepcopy(action_data)\n",
    "                create_flag = True\n",
    "            break\n",
    "#     for i in range(30):\n",
    "#         print(field_data[i])\n",
    "#         print(\"action = {0} \\n\".format(action_data[i]))\n",
    "#     print(\"--------------------------------------------------\")\n",
    "    return  clf,path_count,best_field_data,best_action_data,create_flag"
   ]
  },
  {
   "cell_type": "code",
   "execution_count": 703,
   "metadata": {
    "scrolled": true
   },
   "outputs": [
    {
     "name": "stdout",
     "output_type": "stream",
     "text": [
      "X_train.shape = (94, 63) , y_train.shape = (94, 3)\n",
      "X_train.shape = (71, 63) , y_train.shape = (71, 3)\n",
      "X_train.shape = (57, 63) , y_train.shape = (57, 3)\n",
      "X_train.shape = (45, 63) , y_train.shape = (45, 3)\n",
      "X_train.shape = (23, 63) , y_train.shape = (23, 3)\n",
      "X_train.shape = (17, 63) , y_train.shape = (17, 3)\n",
      "X_train.shape = (13, 63) , y_train.shape = (13, 3)\n",
      "X_train.shape = (11, 63) , y_train.shape = (11, 3)\n",
      "epoch = 100\n",
      "epoch = 200\n",
      "epoch = 300\n"
     ]
    }
   ],
   "source": [
    "FIND_ROOT_MAX_LOOP = 100\n",
    "clf = None\n",
    "path_count = 1e+7\n",
    "agents_poses = []\n",
    "best_field_data = []\n",
    "best_action_data = []\n",
    "for agents_pos in agents_pos_list:\n",
    "    agents_poses.append(agents_pos.tolist())\n",
    "create_flag = False\n",
    "cnt = 0\n",
    "for i in range(2000):\n",
    "    if create_flag == False:\n",
    "        cnt += 1\n",
    "    else:\n",
    "        cnt = 0\n",
    "    if cnt > 300:\n",
    "        break\n",
    "    init_poses = agents_poses\n",
    "    if (i+1) % 100 == 0:\n",
    "        print(\"epoch = {0}\".format(i+1))\n",
    "    clf,path_count,best_field_data,best_action_data,create_flag = createTrainData(init_field,init_poses,clf,path_count,best_field_data,best_action_data)"
   ]
  },
  {
   "cell_type": "code",
   "execution_count": 704,
   "metadata": {
    "scrolled": true
   },
   "outputs": [
    {
     "name": "stdout",
     "output_type": "stream",
     "text": [
      "[[ 1.  1.  1.  1.  1.  1.  1.  1.  1.]\n",
      " [ 1.  0.  0.  4.  0.  2.  0.  0.  1.]\n",
      " [ 1.  0.  1.  7.  1.  3.  0.  0.  1.]\n",
      " [ 1.  0.  1.  0.  1.  0.  1.  0.  1.]\n",
      " [ 1.  0.  1.  6.  0.  0.  1.  0.  1.]\n",
      " [ 1.  0.  0.  0.  0.  0.  5.  0.  1.]\n",
      " [ 1.  1.  1.  1.  1.  1.  1.  1.  1.]]\n",
      "[ 1.  1.  0.]\n",
      "[[ 1.  1.  1.  1.  1.  1.  1.  1.  1.]\n",
      " [ 1.  0.  0.  0.  4.  0.  2.  0.  1.]\n",
      " [ 1.  0.  1.  7.  1.  3.  0.  0.  1.]\n",
      " [ 1.  0.  1.  6.  1.  0.  1.  0.  1.]\n",
      " [ 1.  0.  1.  0.  0.  0.  1.  0.  1.]\n",
      " [ 1.  0.  0.  0.  0.  0.  5.  0.  1.]\n",
      " [ 1.  1.  1.  1.  1.  1.  1.  1.  1.]]\n",
      "[ 2.  1.  0.]\n",
      "[[ 1.  1.  1.  1.  1.  1.  1.  1.  1.]\n",
      " [ 1.  0.  0.  0.  0.  4.  0.  0.  1.]\n",
      " [ 1.  0.  1.  7.  1.  3.  2.  0.  1.]\n",
      " [ 1.  0.  1.  0.  1.  0.  1.  0.  1.]\n",
      " [ 1.  0.  1.  0.  0.  0.  1.  0.  1.]\n",
      " [ 1.  0.  0.  0.  0.  0.  5.  0.  1.]\n",
      " [ 1.  1.  1.  1.  1.  1.  1.  1.  1.]]\n",
      "[ 4.  2.  4.]\n",
      "[[ 1.  1.  1.  1.  1.  1.  1.  1.  1.]\n",
      " [ 1.  0.  0.  0.  0.  0.  0.  0.  1.]\n",
      " [ 1.  0.  1.  7.  1.  3.  2.  0.  1.]\n",
      " [ 1.  0.  1.  0.  1.  0.  1.  0.  1.]\n",
      " [ 1.  0.  1.  0.  0.  0.  1.  0.  1.]\n",
      " [ 1.  0.  0.  0.  0.  0.  5.  0.  1.]\n",
      " [ 1.  1.  1.  1.  1.  1.  1.  1.  1.]]\n",
      "[ 4.  2.  4.]\n",
      "[[ 1.  1.  1.  1.  1.  1.  1.  1.  1.]\n",
      " [ 1.  0.  0.  0.  0.  0.  0.  0.  1.]\n",
      " [ 1.  0.  1.  7.  1.  3.  2.  0.  1.]\n",
      " [ 1.  0.  1.  0.  1.  4.  1.  0.  1.]\n",
      " [ 1.  0.  1.  0.  0.  0.  1.  0.  1.]\n",
      " [ 1.  0.  0.  0.  0.  0.  5.  0.  1.]\n",
      " [ 1.  1.  1.  1.  1.  1.  1.  1.  1.]]\n",
      "[ 4.  2.  4.]\n",
      "[[ 1.  1.  1.  1.  1.  1.  1.  1.  1.]\n",
      " [ 1.  0.  0.  0.  0.  0.  0.  0.  1.]\n",
      " [ 1.  0.  1.  7.  1.  3.  2.  0.  1.]\n",
      " [ 1.  0.  1.  0.  1.  0.  1.  0.  1.]\n",
      " [ 1.  0.  1.  0.  0.  4.  1.  0.  1.]\n",
      " [ 1.  0.  0.  0.  0.  0.  5.  0.  1.]\n",
      " [ 1.  1.  1.  1.  1.  1.  1.  1.  1.]]\n",
      "[ 4.  2.  4.]\n",
      "[[ 1.  1.  1.  1.  1.  1.  1.  1.  1.]\n",
      " [ 1.  0.  0.  0.  0.  0.  0.  0.  1.]\n",
      " [ 1.  0.  1.  7.  1.  3.  2.  0.  1.]\n",
      " [ 1.  0.  1.  0.  1.  0.  1.  0.  1.]\n",
      " [ 1.  0.  1.  0.  0.  0.  1.  0.  1.]\n",
      " [ 1.  0.  0.  0.  0.  4.  5.  0.  1.]\n",
      " [ 1.  1.  1.  1.  1.  1.  1.  1.  1.]]\n",
      "[ 3.  0.  4.]\n",
      "[[ 1.  1.  1.  1.  1.  1.  1.  1.  1.]\n",
      " [ 1.  0.  0.  0.  0.  0.  0.  0.  1.]\n",
      " [ 1.  0.  1.  7.  1.  3.  0.  0.  1.]\n",
      " [ 1.  0.  1.  0.  1.  0.  1.  0.  1.]\n",
      " [ 1.  0.  1.  0.  0.  4.  1.  0.  1.]\n",
      " [ 1.  0.  0.  0.  0.  0.  5.  0.  1.]\n",
      " [ 1.  1.  1.  1.  1.  1.  1.  1.  1.]]\n",
      "[ 4.  2.  4.]\n",
      "[[ 1.  1.  1.  1.  1.  1.  1.  1.  1.]\n",
      " [ 1.  0.  0.  0.  0.  0.  0.  0.  1.]\n",
      " [ 1.  0.  1.  7.  1.  3.  0.  0.  1.]\n",
      " [ 1.  0.  1.  0.  1.  0.  1.  0.  1.]\n",
      " [ 1.  0.  1.  0.  0.  0.  1.  0.  1.]\n",
      " [ 1.  0.  0.  0.  0.  4.  5.  0.  1.]\n",
      " [ 1.  1.  1.  1.  1.  1.  1.  1.  1.]]\n",
      "[ 4.  1.  4.]\n",
      "[[ 1.  1.  1.  1.  1.  1.  1.  1.  1.]\n",
      " [ 1.  0.  0.  0.  0.  0.  0.  0.  1.]\n",
      " [ 1.  0.  1.  7.  1.  3.  0.  0.  1.]\n",
      " [ 1.  0.  1.  0.  1.  0.  1.  0.  1.]\n",
      " [ 1.  0.  1.  0.  0.  0.  1.  0.  1.]\n",
      " [ 1.  0.  0.  0.  0.  0.  5.  0.  1.]\n",
      " [ 1.  1.  1.  1.  1.  1.  1.  1.  1.]]\n",
      "[ 4.  4.  4.]\n",
      "[[ 1.  1.  1.  1.  1.  1.  1.  1.  1.]\n",
      " [ 1.  0.  0.  0.  0.  0.  0.  0.  1.]\n",
      " [ 1.  0.  1.  7.  1.  3.  0.  0.  1.]\n",
      " [ 1.  0.  1.  0.  1.  0.  1.  0.  1.]\n",
      " [ 1.  0.  1.  0.  0.  0.  1.  0.  1.]\n",
      " [ 1.  0.  0.  0.  0.  0.  5.  0.  1.]\n",
      " [ 1.  1.  1.  1.  1.  1.  1.  1.  1.]]\n",
      "[4, 4, 4]\n",
      "--------------------------------------------------\n"
     ]
    }
   ],
   "source": [
    "printFieldData(best_field_data,best_action_data)"
   ]
  },
  {
   "cell_type": "code",
   "execution_count": null,
   "metadata": {
    "collapsed": true
   },
   "outputs": [],
   "source": []
  }
 ],
 "metadata": {
  "kernelspec": {
   "display_name": "Python 3",
   "language": "python",
   "name": "python3"
  },
  "language_info": {
   "codemirror_mode": {
    "name": "ipython",
    "version": 3
   },
   "file_extension": ".py",
   "mimetype": "text/x-python",
   "name": "python",
   "nbconvert_exporter": "python",
   "pygments_lexer": "ipython3",
   "version": "3.4.3"
  }
 },
 "nbformat": 4,
 "nbformat_minor": 2
}
