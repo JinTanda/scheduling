{
 "cells": [
  {
   "cell_type": "code",
   "execution_count": 122,
   "metadata": {
    "collapsed": true
   },
   "outputs": [],
   "source": [
    "import numpy as np\n",
    "import copy\n",
    "from sklearn.neural_network import MLPRegressor\n",
    "from numpy.random import *\n",
    "from operator import itemgetter"
   ]
  },
  {
   "cell_type": "markdown",
   "metadata": {},
   "source": [
    "# 1.InputFieldData"
   ]
  },
  {
   "cell_type": "code",
   "execution_count": 200,
   "metadata": {
    "collapsed": true
   },
   "outputs": [],
   "source": [
    "def sortAgentsPosInfo(agents_pos_list_with_num):\n",
    "    np_agents_pos_list_with_num = np.asarray(agents_pos_list_with_num)\n",
    "    sorted_np_agents_pos_list_with_num = np.array(sorted(np_agents_pos_list_with_num,key=itemgetter(1)))\n",
    "    agents_pos_list = []\n",
    "    for pos_info in sorted_np_agents_pos_list_with_num:\n",
    "        agents_pos_list.append(pos_info[0])\n",
    "    print(\"agents_pos_list = {0}\".format(agents_pos_list))\n",
    "    return agents_pos_list"
   ]
  },
  {
   "cell_type": "code",
   "execution_count": 207,
   "metadata": {},
   "outputs": [],
   "source": [
    "def inputFieldData(text_path):\n",
    "    f = open(text_path)\n",
    "    line = f.readline()\n",
    "    line_count = 1\n",
    "    field_size = int(len(line) / 2)\n",
    "    field = np.empty((0,field_size),int)\n",
    "    agents_pos_list = []\n",
    "    while line:\n",
    "        last_idx = line.find(\"\\n\")\n",
    "        field_row = np.array([])\n",
    "        for i in range(0,last_idx,2):\n",
    "            field_row = np.append(field_row,int(line[i]))\n",
    "            if int(line[i]) % 2 == 0 and int(line[i]) != 0:\n",
    "                agent_data = np.array([np.array([line_count-1,int(i/2)]),int(line[i])])\n",
    "                agents_pos_list.append(agent_data)\n",
    "        field = np.append(field,np.array([field_row]),axis=0)\n",
    "        line = f.readline()\n",
    "        line_count += 1\n",
    "    f.close()\n",
    "    print(\"init field = \\n {0}\".format(field))\n",
    "    agents_pos_list = sortAgentsPosInfo(agents_pos_list)\n",
    "    return field,agents_pos_list"
   ]
  },
  {
   "cell_type": "code",
   "execution_count": 245,
   "metadata": {},
   "outputs": [
    {
     "name": "stdout",
     "output_type": "stream",
     "text": [
      "init field = \n",
      " [[ 1.  1.  1.  1.  1.  1.  1.  1.  1.]\n",
      " [ 1.  0.  0.  4.  0.  2.  0.  0.  1.]\n",
      " [ 1.  0.  1.  7.  1.  3.  0.  0.  1.]\n",
      " [ 1.  0.  1.  0.  1.  0.  1.  0.  1.]\n",
      " [ 1.  0.  1.  6.  0.  0.  1.  0.  1.]\n",
      " [ 1.  0.  0.  0.  0.  0.  5.  0.  1.]\n",
      " [ 1.  1.  1.  1.  1.  1.  1.  1.  1.]]\n",
      "agents_pos_list = [array([1, 5]), array([1, 3]), array([4, 3])]\n"
     ]
    }
   ],
   "source": [
    "init_field,agents_pos_list = inputFieldData(\"test.txt\")\n",
    "field_row = len(init_field[0])\n",
    "field_col = len(init_field)"
   ]
  },
  {
   "cell_type": "markdown",
   "metadata": {},
   "source": [
    "# 2.DecideActions"
   ]
  },
  {
   "cell_type": "code",
   "execution_count": 212,
   "metadata": {
    "collapsed": true
   },
   "outputs": [],
   "source": [
    "def moveToNextPos(pos,action):\n",
    "    if action == 0:\n",
    "        next_pos = [pos[0]-1,pos[1]]\n",
    "    elif action == 1:\n",
    "        next_pos = [pos[0],pos[1]+1]\n",
    "    elif action == 2:\n",
    "        next_pos = [pos[0]+1,pos[1]]\n",
    "    elif action== 3:\n",
    "        next_pos = [pos[0],pos[1]-1]\n",
    "    else:\n",
    "        next_pos = [pos[0],pos[1]]\n",
    "    return next_pos"
   ]
  },
  {
   "cell_type": "code",
   "execution_count": 213,
   "metadata": {},
   "outputs": [],
   "source": [
    "def buildNetwork(X_train,y_train):\n",
    "    clf = MLPRegressor(solver=\"adam\",random_state=1,max_iter=1000,hidden_layer_sizes=(20,50,10))\n",
    "    print(\"X_train.shape = {0} , y_train.shape = {1}\".format(X_train.shape,y_train.shape))\n",
    "    clf.fit(X_train,y_train)\n",
    "    return clf"
   ]
  },
  {
   "cell_type": "code",
   "execution_count": null,
   "metadata": {
    "collapsed": true
   },
   "outputs": [],
   "source": [
    "def checkActions(pred_actions,field,poses):\n",
    "    for pred_action in pred_actions:\n",
    "        \n",
    "    return actions"
   ]
  },
  {
   "cell_type": "code",
   "execution_count": 220,
   "metadata": {
    "collapsed": true
   },
   "outputs": [],
   "source": [
    "def predictActions(clf,field):\n",
    "    X_test = np.asarray(field).reshape(1,field_row*field_col)\n",
    "    actions = clf.predict(X_test)[0]\n",
    "    for i in range(len(actions)):\n",
    "        actions[i] = int(actions[i])\n",
    "        \n",
    "    if rand() < 0.3:\n",
    "        for i in range(len(actions)):\n",
    "            actions[i] = int(actions[i] + rand() * 3 + 1) % 4\n",
    "    return actions"
   ]
  },
  {
   "cell_type": "code",
   "execution_count": 237,
   "metadata": {
    "collapsed": true
   },
   "outputs": [],
   "source": [
    "def updateField(poses,next_poses,field):\n",
    "    for i in range(len(agents_pos_list)):\n",
    "        pos = poses[i]\n",
    "        next_pos = next_poses[i]\n",
    "        print(pos,next_pos)\n",
    "        #エージェントがいずれかの方向に進行する場合\n",
    "        if pos != next_pos:\n",
    "            if field[pos[0],pos[1]] % 2 == 0:\n",
    "                field[pos[0],pos[1]] = 0\n",
    "                field[next_pos[0],next_pos[1]] = i*2 + 2"
   ]
  },
  {
   "cell_type": "code",
   "execution_count": 238,
   "metadata": {
    "collapsed": true
   },
   "outputs": [],
   "source": [
    "def createTrainData(init_field,init_poses):\n",
    "    field_data = [copy.deepcopy(init_field)]\n",
    "    field = copy.deepcopy(init_field)\n",
    "    poses = init_poses\n",
    "    action_data = []\n",
    "    for i in range(FIND_ROOT_MAX_LOOP):\n",
    "        if clf != None:\n",
    "            pred_actions = predictActions(clf,field)\n",
    "        else:\n",
    "            pred_actions = [int(rand()*4) for i in range(len(agents_pos_list))]\n",
    "        #予測したアクションに対してチェックを行い，壁や他エージェントにぶつかる挙動を変更する\n",
    "        actions = checkActions(pred_actions,field,poses)\n",
    "        #タイムステップ毎のアクションを保持するaction_dataの末尾に次の行動を追加\n",
    "        action_data.append(actions)\n",
    "        #actionsを元に次のfieldへと遷移させる\n",
    "        next_poses = []\n",
    "        for j in range(len(agents_pos_list)):\n",
    "            next_poses.append(moveToNextPos(poses[j],actions[j]))\n",
    "        updateField(poses,next_poses,field)\n",
    "        field_data.append(copy.deepcopy(field))\n",
    "        \n",
    "        poses = next_poses"
   ]
  },
  {
   "cell_type": "code",
   "execution_count": 251,
   "metadata": {},
   "outputs": [
    {
     "name": "stdout",
     "output_type": "stream",
     "text": [
      "[1, 5] [1, 6]\n",
      "[1, 3] [1, 3]\n",
      "[4, 3] [4, 3]\n",
      "[1, 6] [1, 7]\n",
      "[1, 3] [1, 3]\n",
      "[4, 3] [4, 3]\n",
      "[1, 7] [1, 8]\n",
      "[1, 3] [1, 3]\n",
      "[4, 3] [4, 3]\n",
      "[1, 8] [1, 9]\n"
     ]
    },
    {
     "ename": "IndexError",
     "evalue": "index 9 is out of bounds for axis 1 with size 9",
     "output_type": "error",
     "traceback": [
      "\u001b[0;31m---------------------------------------------------------------------------\u001b[0m",
      "\u001b[0;31mIndexError\u001b[0m                                Traceback (most recent call last)",
      "\u001b[0;32m<ipython-input-251-92ca9c89790b>\u001b[0m in \u001b[0;36m<module>\u001b[0;34m()\u001b[0m\n\u001b[1;32m     10\u001b[0m     \u001b[0;32mif\u001b[0m \u001b[0;34m(\u001b[0m\u001b[0mi\u001b[0m\u001b[0;34m+\u001b[0m\u001b[0;36m1\u001b[0m\u001b[0;34m)\u001b[0m \u001b[0;34m%\u001b[0m \u001b[0;36m100\u001b[0m \u001b[0;34m==\u001b[0m \u001b[0;36m0\u001b[0m\u001b[0;34m:\u001b[0m\u001b[0;34m\u001b[0m\u001b[0m\n\u001b[1;32m     11\u001b[0m         \u001b[0mprint\u001b[0m\u001b[0;34m(\u001b[0m\u001b[0;34m\"epoch = {0}\"\u001b[0m\u001b[0;34m.\u001b[0m\u001b[0mformat\u001b[0m\u001b[0;34m(\u001b[0m\u001b[0mi\u001b[0m\u001b[0;34m+\u001b[0m\u001b[0;36m1\u001b[0m\u001b[0;34m)\u001b[0m\u001b[0;34m)\u001b[0m\u001b[0;34m\u001b[0m\u001b[0m\n\u001b[0;32m---> 12\u001b[0;31m     \u001b[0mcreateTrainData\u001b[0m\u001b[0;34m(\u001b[0m\u001b[0minit_field\u001b[0m\u001b[0;34m,\u001b[0m\u001b[0minit_poses\u001b[0m\u001b[0;34m)\u001b[0m\u001b[0;34m\u001b[0m\u001b[0m\n\u001b[0m",
      "\u001b[0;32m<ipython-input-238-0542647cd7a2>\u001b[0m in \u001b[0;36mcreateTrainData\u001b[0;34m(init_field, init_poses)\u001b[0m\n\u001b[1;32m     17\u001b[0m         \u001b[0;32mfor\u001b[0m \u001b[0mj\u001b[0m \u001b[0;32min\u001b[0m \u001b[0mrange\u001b[0m\u001b[0;34m(\u001b[0m\u001b[0mlen\u001b[0m\u001b[0;34m(\u001b[0m\u001b[0magents_pos_list\u001b[0m\u001b[0;34m)\u001b[0m\u001b[0;34m)\u001b[0m\u001b[0;34m:\u001b[0m\u001b[0;34m\u001b[0m\u001b[0m\n\u001b[1;32m     18\u001b[0m             \u001b[0mnext_poses\u001b[0m\u001b[0;34m.\u001b[0m\u001b[0mappend\u001b[0m\u001b[0;34m(\u001b[0m\u001b[0mmoveToNextPos\u001b[0m\u001b[0;34m(\u001b[0m\u001b[0mposes\u001b[0m\u001b[0;34m[\u001b[0m\u001b[0mj\u001b[0m\u001b[0;34m]\u001b[0m\u001b[0;34m,\u001b[0m\u001b[0mactions\u001b[0m\u001b[0;34m[\u001b[0m\u001b[0mj\u001b[0m\u001b[0;34m]\u001b[0m\u001b[0;34m)\u001b[0m\u001b[0;34m)\u001b[0m\u001b[0;34m\u001b[0m\u001b[0m\n\u001b[0;32m---> 19\u001b[0;31m         \u001b[0mupdateField\u001b[0m\u001b[0;34m(\u001b[0m\u001b[0mposes\u001b[0m\u001b[0;34m,\u001b[0m\u001b[0mnext_poses\u001b[0m\u001b[0;34m,\u001b[0m\u001b[0mfield\u001b[0m\u001b[0;34m)\u001b[0m\u001b[0;34m\u001b[0m\u001b[0m\n\u001b[0m\u001b[1;32m     20\u001b[0m         \u001b[0mfield_data\u001b[0m\u001b[0;34m.\u001b[0m\u001b[0mappend\u001b[0m\u001b[0;34m(\u001b[0m\u001b[0mcopy\u001b[0m\u001b[0;34m.\u001b[0m\u001b[0mdeepcopy\u001b[0m\u001b[0;34m(\u001b[0m\u001b[0mfield\u001b[0m\u001b[0;34m)\u001b[0m\u001b[0;34m)\u001b[0m\u001b[0;34m\u001b[0m\u001b[0m\n\u001b[1;32m     21\u001b[0m \u001b[0;34m\u001b[0m\u001b[0m\n",
      "\u001b[0;32m<ipython-input-237-5ac723244e02>\u001b[0m in \u001b[0;36mupdateField\u001b[0;34m(poses, next_poses, field)\u001b[0m\n\u001b[1;32m      8\u001b[0m             \u001b[0;32mif\u001b[0m \u001b[0mfield\u001b[0m\u001b[0;34m[\u001b[0m\u001b[0mpos\u001b[0m\u001b[0;34m[\u001b[0m\u001b[0;36m0\u001b[0m\u001b[0;34m]\u001b[0m\u001b[0;34m,\u001b[0m\u001b[0mpos\u001b[0m\u001b[0;34m[\u001b[0m\u001b[0;36m1\u001b[0m\u001b[0;34m]\u001b[0m\u001b[0;34m]\u001b[0m \u001b[0;34m%\u001b[0m \u001b[0;36m2\u001b[0m \u001b[0;34m==\u001b[0m \u001b[0;36m0\u001b[0m\u001b[0;34m:\u001b[0m\u001b[0;34m\u001b[0m\u001b[0m\n\u001b[1;32m      9\u001b[0m                 \u001b[0mfield\u001b[0m\u001b[0;34m[\u001b[0m\u001b[0mpos\u001b[0m\u001b[0;34m[\u001b[0m\u001b[0;36m0\u001b[0m\u001b[0;34m]\u001b[0m\u001b[0;34m,\u001b[0m\u001b[0mpos\u001b[0m\u001b[0;34m[\u001b[0m\u001b[0;36m1\u001b[0m\u001b[0;34m]\u001b[0m\u001b[0;34m]\u001b[0m \u001b[0;34m=\u001b[0m \u001b[0;36m0\u001b[0m\u001b[0;34m\u001b[0m\u001b[0m\n\u001b[0;32m---> 10\u001b[0;31m                 \u001b[0mfield\u001b[0m\u001b[0;34m[\u001b[0m\u001b[0mnext_pos\u001b[0m\u001b[0;34m[\u001b[0m\u001b[0;36m0\u001b[0m\u001b[0;34m]\u001b[0m\u001b[0;34m,\u001b[0m\u001b[0mnext_pos\u001b[0m\u001b[0;34m[\u001b[0m\u001b[0;36m1\u001b[0m\u001b[0;34m]\u001b[0m\u001b[0;34m]\u001b[0m \u001b[0;34m=\u001b[0m \u001b[0mi\u001b[0m\u001b[0;34m*\u001b[0m\u001b[0;36m2\u001b[0m \u001b[0;34m+\u001b[0m \u001b[0;36m2\u001b[0m\u001b[0;34m\u001b[0m\u001b[0m\n\u001b[0m",
      "\u001b[0;31mIndexError\u001b[0m: index 9 is out of bounds for axis 1 with size 9"
     ]
    }
   ],
   "source": [
    "FIND_ROOT_MAX_LOOP = 100\n",
    "clf = None\n",
    "path_count = 1e+7\n",
    "agents_poses = []\n",
    "for agents_pos in agents_pos_list:\n",
    "    agents_poses.append(agents_pos.tolist())\n",
    "for i in range(2000):\n",
    "    init_poses = agents_poses\n",
    "    create_flag = False\n",
    "    if (i+1) % 100 == 0:\n",
    "        print(\"epoch = {0}\".format(i+1))\n",
    "    createTrainData(init_field,init_poses)"
   ]
  },
  {
   "cell_type": "code",
   "execution_count": null,
   "metadata": {
    "collapsed": true
   },
   "outputs": [],
   "source": []
  }
 ],
 "metadata": {
  "kernelspec": {
   "display_name": "Python 3",
   "language": "python",
   "name": "python3"
  },
  "language_info": {
   "codemirror_mode": {
    "name": "ipython",
    "version": 3
   },
   "file_extension": ".py",
   "mimetype": "text/x-python",
   "name": "python",
   "nbconvert_exporter": "python",
   "pygments_lexer": "ipython3",
   "version": "3.4.3"
  }
 },
 "nbformat": 4,
 "nbformat_minor": 2
}
