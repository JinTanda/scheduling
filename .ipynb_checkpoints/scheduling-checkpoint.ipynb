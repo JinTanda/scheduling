{
 "cells": [
  {
   "cell_type": "code",
   "execution_count": 189,
   "metadata": {
    "collapsed": true
   },
   "outputs": [],
   "source": [
    "import numpy as np\n",
    "from numpy.random import *"
   ]
  },
  {
   "cell_type": "code",
   "execution_count": 186,
   "metadata": {
    "collapsed": true
   },
   "outputs": [],
   "source": [
    "def inputFieldData(text_path):\n",
    "    f = open(text_path)\n",
    "    line = f.readline()\n",
    "    line_count = 1\n",
    "    field_size = int(len(line) / 2)\n",
    "    field = np.empty((0,field_size),int)\n",
    "    while line:\n",
    "        last_idx = line.find(\"\\n\")\n",
    "        field_row = np.array([])\n",
    "        for i in range(0,last_idx,2):\n",
    "            field_row = np.append(field_row,int(line[i]))\n",
    "        field = np.append(field,np.array([field_row]),axis=0)\n",
    "        line = f.readline()\n",
    "        line_count += 1\n",
    "    f.close()\n",
    "    return field"
   ]
  },
  {
   "cell_type": "code",
   "execution_count": 188,
   "metadata": {},
   "outputs": [
    {
     "name": "stdout",
     "output_type": "stream",
     "text": [
      "[[ 1.  1.  1.  1.  1.  1.  1.]\n",
      " [ 1.  0.  0.  0.  1.  0.  1.]\n",
      " [ 1.  0.  1.  0.  1.  0.  1.]\n",
      " [ 1.  0.  0.  0.  0.  0.  1.]\n",
      " [ 1.  0.  1.  0.  1.  0.  1.]\n",
      " [ 1.  0.  1.  0.  0.  0.  1.]\n",
      " [ 1.  1.  1.  1.  1.  1.  1.]]\n"
     ]
    }
   ],
   "source": [
    "field = inputFieldData(\"singleAgentField.txt\")\n",
    "print(field)\n",
    "agent_pos_list = [[5,1],[1,1]]\n",
    "goal_pos_list = [[1,5],[5,5]]"
   ]
  },
  {
   "cell_type": "code",
   "execution_count": 191,
   "metadata": {
    "collapsed": true
   },
   "outputs": [],
   "source": [
    "def checkState(pos,action):\n",
    "    if action == 0 and field[pos[0]-1,pos[1]] == 1:\n",
    "        return False\n",
    "    elif action == 1and field[pos[0],pos[1]+1] == 1:\n",
    "        return False\n",
    "    elif action == 2 and field[pos[0]+1,pos[1]] == 1:\n",
    "        return False\n",
    "    elif action == 3 and field[pos[0],pos[1]-1] == 1:\n",
    "        return False\n",
    "    else:\n",
    "        return True"
   ]
  },
  {
   "cell_type": "code",
   "execution_count": 193,
   "metadata": {},
   "outputs": [],
   "source": [
    "def selectAction(pos):\n",
    "    action = int(rand() * 4)\n",
    "    while checkState(pos,action) == False:\n",
    "        action = int(rand() * 4)\n",
    "    return action"
   ]
  },
  {
   "cell_type": "code",
   "execution_count": null,
   "metadata": {
    "collapsed": true
   },
   "outputs": [],
   "source": [
    "def createPath(start_pos,goal_pos):\n",
    "    pos = start_pos\n",
    "    action = selectAction(pos)\n",
    "    "
   ]
  }
 ],
 "metadata": {
  "kernelspec": {
   "display_name": "Python 3",
   "language": "python",
   "name": "python3"
  },
  "language_info": {
   "codemirror_mode": {
    "name": "ipython",
    "version": 3
   },
   "file_extension": ".py",
   "mimetype": "text/x-python",
   "name": "python",
   "nbconvert_exporter": "python",
   "pygments_lexer": "ipython3",
   "version": "3.4.3"
  }
 },
 "nbformat": 4,
 "nbformat_minor": 2
}
