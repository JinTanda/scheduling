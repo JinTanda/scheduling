{
 "cells": [
  {
   "cell_type": "code",
   "execution_count": 450,
   "metadata": {
    "collapsed": true
   },
   "outputs": [],
   "source": [
    "import numpy as np\n",
    "import copy\n",
    "from sklearn.neural_network import MLPClassifier\n",
    "from numpy.random import *"
   ]
  },
  {
   "cell_type": "code",
   "execution_count": 420,
   "metadata": {
    "collapsed": true
   },
   "outputs": [],
   "source": [
    "def inputFieldData(text_path):\n",
    "    f = open(text_path)\n",
    "    line = f.readline()\n",
    "    line_count = 1\n",
    "    field_size = int(len(line) / 2)\n",
    "    field = np.empty((0,field_size),int)\n",
    "    agents_pos_list = []\n",
    "    while line:\n",
    "        last_idx = line.find(\"\\n\")\n",
    "        field_row = np.array([])\n",
    "        for i in range(0,last_idx,2):\n",
    "            field_row = np.append(field_row,int(line[i]))\n",
    "            if int(line[i]) == 2:\n",
    "                agents_pos_list.append([line_count-1,int(i/2)])\n",
    "        field = np.append(field,np.array([field_row]),axis=0)\n",
    "        line = f.readline()\n",
    "        line_count += 1\n",
    "    f.close()\n",
    "    return field,agents_pos_list"
   ]
  },
  {
   "cell_type": "code",
   "execution_count": 421,
   "metadata": {
    "scrolled": true
   },
   "outputs": [
    {
     "name": "stdout",
     "output_type": "stream",
     "text": [
      "[[ 1.  1.  1.  1.  1.  1.  1.]\n",
      " [ 1.  0.  0.  0.  1.  3.  1.]\n",
      " [ 1.  1.  1.  0.  1.  0.  1.]\n",
      " [ 1.  0.  0.  0.  0.  0.  1.]\n",
      " [ 1.  0.  1.  0.  1.  0.  1.]\n",
      " [ 1.  2.  1.  0.  0.  0.  1.]\n",
      " [ 1.  1.  1.  1.  1.  1.  1.]]\n",
      "agents_pos_list = [[5, 1]]\n"
     ]
    }
   ],
   "source": [
    "field,agents_pos_list = inputFieldData(\"singleSimpleAgentField.txt\")\n",
    "print(field)\n",
    "print(\"agents_pos_list = {0}\".format(agents_pos_list))"
   ]
  },
  {
   "cell_type": "code",
   "execution_count": 455,
   "metadata": {
    "collapsed": true
   },
   "outputs": [],
   "source": [
    "field_row = len(field[0])\n",
    "field_col = len(field)"
   ]
  },
  {
   "cell_type": "code",
   "execution_count": 423,
   "metadata": {
    "collapsed": true
   },
   "outputs": [],
   "source": [
    "alpha = 0.1\n",
    "q_gamma = 0.9\n",
    "now_pos_ground = 0"
   ]
  },
  {
   "cell_type": "markdown",
   "metadata": {},
   "source": [
    "## aboutAction\n",
    "action=0 : ↑\n",
    "action=1 : →\n",
    "action=2 : ↓\n",
    "action=3 : ←"
   ]
  },
  {
   "cell_type": "code",
   "execution_count": 424,
   "metadata": {
    "collapsed": true
   },
   "outputs": [],
   "source": [
    "def jumpToNextPos(pos,action):\n",
    "    if action == 0:\n",
    "        next_pos = [pos[0]-1,pos[1]]\n",
    "    elif action == 1:\n",
    "        next_pos = [pos[0],pos[1]+1]\n",
    "    elif action == 2:\n",
    "        next_pos = [pos[0]+1,pos[1]]\n",
    "    else:\n",
    "        next_pos = [pos[0],pos[1]-1]\n",
    "    return next_pos"
   ]
  },
  {
   "cell_type": "code",
   "execution_count": 425,
   "metadata": {
    "collapsed": true
   },
   "outputs": [],
   "source": [
    "def selectMaxActionQValue(pos):\n",
    "    return np.max(q[pos[0]][pos[1]])"
   ]
  },
  {
   "cell_type": "code",
   "execution_count": 426,
   "metadata": {
    "collapsed": true
   },
   "outputs": [],
   "source": [
    "def selectAction(pos,test=False):\n",
    "    action = np.argmax(q[pos[0],pos[1]])\n",
    "#     print(\"pos = {0},action={1}\".format(pos,action))\n",
    "    if test:\n",
    "        return action\n",
    "    if rand() <= 0.3:\n",
    "        action = int((action + rand() * 3 + 1)) % 4\n",
    "    return action"
   ]
  },
  {
   "cell_type": "code",
   "execution_count": 609,
   "metadata": {
    "collapsed": true
   },
   "outputs": [],
   "source": [
    "def checkPosition(pos,action,field):\n",
    "    r = action\n",
    "    next_pos = jumpToNextPos(pos,action)\n",
    "    while field[next_pos[0],next_pos[1]] == 1:\n",
    "        r = int(rand()*4)\n",
    "        while r == action:\n",
    "            r = int(rand()*4)\n",
    "        next_pos = jumpToNextPos(pos,r)\n",
    "    return r"
   ]
  },
  {
   "cell_type": "code",
   "execution_count": 602,
   "metadata": {
    "collapsed": true
   },
   "outputs": [],
   "source": [
    "def updateQValue(pos,action):\n",
    "    next_pos = jumpToNextPos(pos,action)\n",
    "    if checkPosition(pos,next_pos,action):\n",
    "        return pos\n",
    "    next_max_q_value = selectMaxActionQValue(next_pos)\n",
    "    q[pos[0]][pos[1]][action] = q[pos[0]][pos[1]][action] + alpha*(reward[next_pos[0]][next_pos[1]] + q_gamma * next_max_q_value - q[pos[0]][pos[1]][action])\n",
    "    return next_pos"
   ]
  },
  {
   "cell_type": "code",
   "execution_count": 603,
   "metadata": {},
   "outputs": [],
   "source": [
    "def buildNetwork(X_train,y_train):\n",
    "    clf = MLPClassifier(solver=\"adam\",random_state=1,max_iter=1000,hidden_layer_sizes=(20,50,10))\n",
    "    print(\"X_train.shape = {0},y_train.shape={1}\".format(X_train.shape,y_train.shape))\n",
    "    print(\"y_train={0}\".format(y_train))\n",
    "    clf.fit(X_train,y_train)\n",
    "    return clf"
   ]
  },
  {
   "cell_type": "code",
   "execution_count": 604,
   "metadata": {
    "collapsed": true
   },
   "outputs": [],
   "source": [
    "def initNetwork(field):\n",
    "    X_train = np.asarray([field])\n",
    "    X_train = X_train.reshape(1,field_row*field_col)\n",
    "    y_train = np.array([[0]])\n",
    "    clf = buildNetwork(X_train,y_train)\n",
    "    return clf"
   ]
  },
  {
   "cell_type": "code",
   "execution_count": 610,
   "metadata": {
    "collapsed": true
   },
   "outputs": [],
   "source": [
    "def predictAction(clf,field):\n",
    "    X_test = np.asarray(field).reshape(1,field_row*field_col)\n",
    "    action = clf.predict(X_test)[0]\n",
    "    if rand() < 0.3:\n",
    "        action = int((action + rand() * 3 + 1)) % 4\n",
    "    return action"
   ]
  },
  {
   "cell_type": "code",
   "execution_count": 617,
   "metadata": {},
   "outputs": [],
   "source": [
    "def createTrainData(init_pos,field,clf=None):\n",
    "    createFlag = False\n",
    "    field_data = [copy.deepcopy(field)]\n",
    "    action_data = []\n",
    "    global now_pos_ground\n",
    "    pos = init_pos\n",
    "    for i in range(FIND_ROOT_MAX_LOOP):\n",
    "        if clf != None:\n",
    "            pred_action = predictAction(clf,field)\n",
    "        else:\n",
    "            pred_action = int(rand()*4)\n",
    "        action = checkPosition(pos,pred_action,field)\n",
    "        action_data.append(action)\n",
    "        next_pos = jumpToNextPos(pos,action)\n",
    "#         print(\"next_pos = {0}\".format(next_pos))\n",
    "        now_pos_ground = updateField(pos,next_pos,field)\n",
    "        if now_pos_ground == 3:\n",
    "#             printFieldData(field_data,action_data)\n",
    "            createFlag = True\n",
    "            break\n",
    "        field_data.append(copy.deepcopy(field))\n",
    "        pos = next_pos\n",
    "    return field_data,action_data,createFlag"
   ]
  },
  {
   "cell_type": "code",
   "execution_count": 618,
   "metadata": {
    "collapsed": true
   },
   "outputs": [],
   "source": [
    "def printFieldData(field_data,action_data):\n",
    "    print(\"------------------------------------------------\")\n",
    "    for i in range(len(field_data)):\n",
    "        print(field_data[i])\n",
    "        print(action_data[i])\n",
    "    print(\"------------------------------------------------\")"
   ]
  },
  {
   "cell_type": "code",
   "execution_count": 628,
   "metadata": {
    "scrolled": false
   },
   "outputs": [
    {
     "name": "stdout",
     "output_type": "stream",
     "text": [
      "init_field = \n",
      "[[ 1.  1.  1.  1.  1.  1.  1.  1.]\n",
      " [ 1.  0.  0.  0.  0.  1.  3.  1.]\n",
      " [ 1.  0.  0.  1.  0.  1.  0.  1.]\n",
      " [ 1.  0.  1.  0.  0.  0.  0.  1.]\n",
      " [ 1.  0.  0.  1.  0.  1.  0.  1.]\n",
      " [ 1.  0.  2.  1.  0.  0.  0.  1.]\n",
      " [ 1.  0.  0.  0.  0.  1.  0.  1.]\n",
      " [ 1.  1.  1.  1.  1.  1.  1.  1.]]\n",
      "epoch = 10\n",
      "X_train.shape = (44, 64),y_train.shape=(44,)\n",
      "y_train=[2 0 0 3 1 3 1 3 2 0 0 0 1 0 3 1 3 2 0 1 1 1 2 2 0 2 1 1 2 2 2 0 0 2 2 0 0\n",
      " 0 3 3 1 1 0 0]\n",
      "X_train.shape = (38, 64),y_train.shape=(38,)\n",
      "y_train=[0 3 2 0 1 2 3 0 1 3 1 2 0 3 0 0 1 0 3 2 1 3 1 0 3 1 1 1 2 2 1 1 0 2 2 0 0\n",
      " 0]\n",
      "epoch = 20\n",
      "epoch = 30\n",
      "X_train.shape = (34, 64),y_train.shape=(34,)\n",
      "y_train=[0 3 1 3 1 3 1 3 1 3 0 2 0 0 2 0 2 0 1 3 0 1 3 2 1 0 1 1 2 2 1 1 0 0]\n",
      "X_train.shape = (16, 64),y_train.shape=(16,)\n",
      "y_train=[0 3 0 0 2 0 1 0 1 1 2 2 1 1 0 0]\n",
      "X_train.shape = (28, 64),y_train.shape=(28,)\n",
      "y_train=[0 3 0 0 2 0 2 0 0 2 2 0 2 0 0 1 1 1 2 2 1 1 2 2 0 0 0 0]\n",
      "X_train.shape = (16, 64),y_train.shape=(16,)\n",
      "y_train=[3 0 0 0 2 0 0 1 1 1 2 2 1 1 0 0]\n",
      "X_train.shape = (32, 64),y_train.shape=(32,)\n",
      "y_train=[3 0 0 0 2 0 2 0 0 1 1 1 2 0 2 0 3 1 3 1 2 2 1 3 1 3 3 1 1 1 0 0]\n",
      "epoch = 40\n",
      "X_train.shape = (32, 64),y_train.shape=(32,)\n",
      "y_train=[3 0 0 0 2 0 0 1 1 1 2 0 2 0 2 0 2 0 2 2 1 3 1 3 1 3 1 1 0 2 0 0]\n",
      "X_train.shape = (48, 64),y_train.shape=(48,)\n",
      "y_train=[3 2 0 0 1 3 2 2 1 1 3 1 3 1 3 1 1 0 0 0 3 1 1 3 0 0 2 0 2 2 2 0 1 3 1 3 1\n",
      " 3 1 3 1 3 1 3 1 1 0 0]\n",
      "X_train.shape = (16, 64),y_train.shape=(16,)\n",
      "y_train=[3 2 0 2 1 1 3 1 1 0 0 0 1 1 0 0]\n",
      "X_train.shape = (20, 64),y_train.shape=(20,)\n",
      "y_train=[2 1 3 1 3 1 1 0 0 0 0 2 1 1 3 1 3 1 0 0]\n",
      "X_train.shape = (48, 64),y_train.shape=(48,)\n",
      "y_train=[3 0 1 2 2 1 3 1 3 1 3 1 1 0 0 0 0 0 3 1 3 1 3 3 1 1 3 1 3 1 2 2 3 1 0 2 0\n",
      " 2 1 1 3 1 3 1 3 1 0 0]\n",
      "epoch = 50\n",
      "X_train.shape = (36, 64),y_train.shape=(36,)\n",
      "y_train=[2 1 3 1 3 1 3 1 3 1 3 1 3 1 3 1 1 3 3 1 3 1 3 1 3 1 3 1 1 0 0 0 1 1 0 0]\n",
      "X_train.shape = (38, 64),y_train.shape=(38,)\n",
      "y_train=[2 1 3 1 3 1 3 1 3 1 1 0 0 0 0 0 2 0 3 3 1 1 2 2 1 1 3 1 2 2 3 3 0 0 1 1 0\n",
      " 0]\n",
      "X_train.shape = (12, 64),y_train.shape=(12,)\n",
      "y_train=[2 1 1 0 0 2 0 0 1 1 0 0]\n",
      "epoch = 60\n",
      "epoch = 70\n",
      "epoch = 80\n",
      "epoch = 90\n",
      "epoch = 100\n"
     ]
    }
   ],
   "source": [
    "FIND_ROOT_MAX_LOOP = 50\n",
    "field,agents_pos_list = inputFieldData(\"singleAgentField2.txt\")\n",
    "print(\"init_field = \\n{0}\".format(field))\n",
    "clf = None\n",
    "X_train,y_train = np.array([]),np.array([])\n",
    "for i in range(100):\n",
    "    createFlag = False\n",
    "    now_pos_ground = 0\n",
    "    field,agents_pos_list = inputFieldData(\"singleAgentField2.txt\")\n",
    "    if (i+1) % 10 == 0:  \n",
    "        print(\"epoch = {0}\".format(i+1))\n",
    "    if clf == None:\n",
    "        field_data,action_data,createFlag = createTrainData([5,2],field)\n",
    "    else:\n",
    "        field_data,action_data,createFlag = createTrainData([5,2],field,clf)\n",
    "    if createFlag:\n",
    "        X_train = np.append(field_data,X_train)\n",
    "        print(\"X_train = {0}\".format())\n",
    "        np_field_data = np.asarray(field_data)\n",
    "        np_action_data = np.asarray(action_data)\n",
    "        clf = buildNetwork(np_field_data.reshape(np_field_data.shape[0],np_field_data.shape[1]*np_field_data.shape[2]),np_action_data)"
   ]
  },
  {
   "cell_type": "code",
   "execution_count": 624,
   "metadata": {
    "collapsed": true
   },
   "outputs": [],
   "source": [
    "def updateField(pos,next_pos,field):\n",
    "    field[pos[0],pos[1]] = now_pos_ground\n",
    "    next_pos_ground = field[next_pos[0],next_pos[1]]\n",
    "    field[next_pos[0],next_pos[1]] = 2\n",
    "#     print(field)\n",
    "#     print(\"\\n\")\n",
    "    return next_pos_ground"
   ]
  },
  {
   "cell_type": "code",
   "execution_count": 20,
   "metadata": {
    "collapsed": true
   },
   "outputs": [
    {
     "name": "stdout",
     "output_type": "stream",
     "text": [
      "[[[-100.          -81.51707953  -81.51025245 -100.        ]\n",
      "  [-100.          -78.73855655   20.39055205 -172.49341828]\n",
      "  [-100.          -77.30606113   22.65616895  -81.48237187]\n",
      "  [-100.          -74.82305228   25.17352105  -79.60322119]\n",
      "  [-100.         -147.36842105   27.97057895  -77.34383105]\n",
      "  [-100.          -52.63157895  -52.63157895  -74.82647895]\n",
      "  [-100.         -147.36842105   52.63157895 -147.36842105]\n",
      "  [-100.         -100.          -52.63157895  -52.63157895]]\n",
      "\n",
      " [[-172.17695539   20.39055205  -82.51778015 -100.        ]\n",
      "  [ -81.64850315   22.65616895   18.35149685  -81.64850315]\n",
      "  [ -79.60944795   25.17352105   20.39055205   20.39055205]\n",
      "  [ -77.34383105   27.97057895  -72.02942105   22.65616895]\n",
      "  [ -74.82647895  -52.63157895   31.07842105   25.17352105]\n",
      "  [-147.36842105   52.63157895  -57.36842105   27.97057895]\n",
      "  [ -52.63157895  -52.63157895   47.36842105  -52.63157895]\n",
      "  [-147.36842105 -100.          -57.36842105   52.63157895]]\n",
      "\n",
      " [[ -79.89144501   18.35149685  -84.36826421 -100.        ]\n",
      "  [  20.39055205   20.39055205   16.51634716  -83.48365284]\n",
      "  [  22.65616895  -72.02941736  -72.0294094    18.35135435]\n",
      "  [  25.17352105   31.07842105   31.07842105   20.39055205]\n",
      "  [  27.97057895  -57.36842105   34.53157895  -72.02942105]\n",
      "  [ -52.63157895   47.36842105   38.36842105   31.07842105]\n",
      "  [  52.63157895  -57.36842105   42.63157895  -57.36842105]\n",
      "  [ -52.63157895 -100.          -61.63157895   47.36842105]]\n",
      "\n",
      " [[ -83.15417771   16.51634716  -86.54428243 -100.        ]\n",
      "  [  18.35149685  -72.02942105   14.86471245  -85.13528755]\n",
      "  [  20.39055201   31.07842105   16.51634704   16.51634713]\n",
      "  [ -72.02942105   34.53157895  -72.02942105  -72.02942105]\n",
      "  [  31.07842105   38.36842105   31.07842105   31.07842105]\n",
      "  [ -57.36842105   42.63157895  -65.46842105   34.53157895]\n",
      "  [  47.36842105  -61.63157895   38.36842105   38.36842105]\n",
      "  [ -57.36842105 -100.          -65.46842105   42.63157895]]\n",
      "\n",
      " [[ -85.0932549    14.86471245  -85.35369418 -100.        ]\n",
      "  [  16.51634716   16.51613716   16.51626684  -86.6217588 ]\n",
      "  [ -72.02942105  -72.02942105   18.35149685   14.86471245]\n",
      "  [  31.07842105   31.07842105  -74.82647895   16.51634716]\n",
      "  [  34.53157895  -65.46842105   27.97057895  -72.02942105]\n",
      "  [  38.36842105   38.36842105   31.07842105   31.07842105]\n",
      "  [  42.63157895  -65.46842105   34.53157895  -65.46842105]\n",
      "  [ -61.63157895 -100.          -68.92157895   38.36842105]]\n",
      "\n",
      " [[ -86.61188639   16.51634716  -83.49943239 -100.        ]\n",
      "  [  14.86471245   18.35149685   18.35149685  -85.13528755]\n",
      "  [  16.51634716  -74.82647895   20.39055205   16.51634716]\n",
      "  [ -72.02942105   27.97057895   22.65616895   18.35149685]\n",
      "  [  31.07842105   31.07842105   25.17352105  -74.82647895]\n",
      "  [ -65.46842105   34.53157895  -72.02942105   27.97057895]\n",
      "  [  38.36842105  -68.92157895   31.07842105   31.07842105]\n",
      "  [ -65.46842064 -100.          -72.02942096   34.53157895]]\n",
      "\n",
      " [[ -85.11582384   18.35149685 -174.1161456  -100.        ]\n",
      "  [  16.51634716   20.39055205  -83.48365284  -83.48365284]\n",
      "  [  18.35149685   22.65616895  -81.64850315   18.35149685]\n",
      "  [ -74.82647895   25.17352105  -79.60944795   20.39055205]\n",
      "  [  27.97057895  -72.02942105  -77.34383105   22.65616895]\n",
      "  [  31.07842105   31.07842105 -164.82647895   25.17352105]\n",
      "  [  34.53157895  -72.02942105  -72.02942105  -72.02942105]\n",
      "  [ -68.91603849 -100.         -164.73596814   31.07842105]]\n",
      "\n",
      " [[ -83.46309244  -83.46505842 -100.         -100.        ]\n",
      "  [  18.35149685  -81.64566515 -100.         -175.06122702]\n",
      "  [  20.39055205  -79.60944795 -100.          -83.48365284]\n",
      "  [  22.65616895  -77.34383105 -100.          -81.64850315]\n",
      "  [  25.17352105 -164.82647895 -100.          -79.60944795]\n",
      "  [ -72.02942105  -72.02942105 -100.          -77.33937226]\n",
      "  [  31.07842105 -164.7476487  -100.         -164.8109601 ]\n",
      "  [ -72.02165635 -100.         -100.          -72.02174852]]]\n"
     ]
    }
   ],
   "source": [
    "for j in range(10000):\n",
    "    init_pos = [5,2]\n",
    "    pos = init_pos\n",
    "    for i in range(100):\n",
    "        action = selectAction(pos)\n",
    "        next_pos = updateQValue(pos,action)\n",
    "        pos = next_pos\n",
    "print(q)"
   ]
  },
  {
   "cell_type": "code",
   "execution_count": 21,
   "metadata": {
    "collapsed": true
   },
   "outputs": [],
   "source": [
    "def createPath(init_pos):\n",
    "    print(init_pos)\n",
    "    pos = init_pos\n",
    "    while field[pos[0],pos[1]] != 3:\n",
    "        action = selectAction(pos,test=True)\n",
    "        next_pos = jumpToNextPos(pos,action)\n",
    "        pos = next_pos\n",
    "        print(pos)"
   ]
  },
  {
   "cell_type": "code",
   "execution_count": 24,
   "metadata": {
    "scrolled": false
   },
   "outputs": [
    {
     "name": "stdout",
     "output_type": "stream",
     "text": [
      "[5, 2]\n",
      "[6, 2]\n",
      "[6, 3]\n",
      "[6, 4]\n",
      "[5, 4]\n",
      "[4, 4]\n",
      "[3, 4]\n",
      "[3, 5]\n",
      "[3, 6]\n",
      "[2, 6]\n",
      "[1, 6]\n"
     ]
    }
   ],
   "source": [
    "init_pos = [5,2]\n",
    "createPath(init_pos)"
   ]
  },
  {
   "cell_type": "code",
   "execution_count": 56,
   "metadata": {
    "collapsed": true
   },
   "outputs": [],
   "source": [
    "from sklearn.datasets import load_iris\n",
    "from sklearn.model_selection import train_test_split"
   ]
  },
  {
   "cell_type": "code",
   "execution_count": 60,
   "metadata": {
    "collapsed": true
   },
   "outputs": [],
   "source": [
    "iris = load_iris()\n",
    "X = iris.data\n",
    "y = iris.target"
   ]
  },
  {
   "cell_type": "code",
   "execution_count": 61,
   "metadata": {
    "collapsed": true
   },
   "outputs": [],
   "source": [
    "X_train, X_test, y_train, y_test = train_test_split(X, y, test_size=0.3, random_state=0)"
   ]
  },
  {
   "cell_type": "code",
   "execution_count": 69,
   "metadata": {},
   "outputs": [
    {
     "name": "stdout",
     "output_type": "stream",
     "text": [
      "(105, 4)\n",
      "(105,)\n"
     ]
    }
   ],
   "source": [
    "print(X_train.shape)\n",
    "print(y_train.shape)"
   ]
  },
  {
   "cell_type": "code",
   "execution_count": null,
   "metadata": {
    "collapsed": true
   },
   "outputs": [],
   "source": []
  }
 ],
 "metadata": {
  "kernelspec": {
   "display_name": "Python 3",
   "language": "python",
   "name": "python3"
  },
  "language_info": {
   "codemirror_mode": {
    "name": "ipython",
    "version": 3
   },
   "file_extension": ".py",
   "mimetype": "text/x-python",
   "name": "python",
   "nbconvert_exporter": "python",
   "pygments_lexer": "ipython3",
   "version": "3.4.3"
  }
 },
 "nbformat": 4,
 "nbformat_minor": 2
}
