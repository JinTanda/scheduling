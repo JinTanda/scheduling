{
 "cells": [
  {
   "cell_type": "code",
   "execution_count": 7,
   "metadata": {
    "collapsed": true
   },
   "outputs": [],
   "source": [
    "import numpy as np\n",
    "import os"
   ]
  },
  {
   "cell_type": "markdown",
   "metadata": {},
   "source": [
    "# Input Field"
   ]
  },
  {
   "cell_type": "code",
   "execution_count": 101,
   "metadata": {},
   "outputs": [],
   "source": [
    "def inputFieldData(file_path):\n",
    "    if os.path.exists(file_path):\n",
    "        f = open(file_path,'r')\n",
    "    else:\n",
    "        print(\"file don't exist\")\n",
    "        return \n",
    "    line = f.readline()\n",
    "    field_size = int(len(line) / 2)\n",
    "    field = np.empty((0,field_size),int)\n",
    "    while line:\n",
    "        field_row = np.array([])\n",
    "        last_idx = line.find(\"\\n\")\n",
    "        for i in range(0,last_idx,2):\n",
    "            field_row = np.append(field_row,int(line[i]))\n",
    "        field = np.append(field, np.array([field_row]),axis=0)\n",
    "        line = f.readline()\n",
    "    f.close()\n",
    "    printField(field)\n",
    "    return field"
   ]
  },
  {
   "cell_type": "code",
   "execution_count": 102,
   "metadata": {
    "collapsed": true
   },
   "outputs": [],
   "source": [
    "def printField(field):\n",
    "    row_len = len(field[0])\n",
    "    col_len = len(field)\n",
    "    print(\"row_len = {0}, col_len = {1}\".format(row_len,col_len))\n",
    "    for row in field:\n",
    "        print(row)"
   ]
  },
  {
   "cell_type": "code",
   "execution_count": 108,
   "metadata": {
    "scrolled": true
   },
   "outputs": [
    {
     "name": "stdout",
     "output_type": "stream",
     "text": [
      "row_len = 8, col_len = 8\n",
      "[ 1.  1.  1.  1.  1.  1.  1.  1.]\n",
      "[ 1.  0.  0.  0.  0.  1.  0.  1.]\n",
      "[ 1.  0.  0.  1.  0.  1.  0.  1.]\n",
      "[ 1.  0.  1.  1.  0.  1.  0.  1.]\n",
      "[ 1.  0.  0.  0.  0.  1.  0.  1.]\n",
      "[ 1.  0.  1.  0.  0.  0.  0.  1.]\n",
      "[ 1.  0.  1.  0.  1.  1.  0.  1.]\n",
      "[ 1.  1.  1.  1.  1.  1.  1.  1.]\n"
     ]
    }
   ],
   "source": [
    "field = inputFieldData(\"FieldTest.txt\")"
   ]
  },
  {
   "cell_type": "code",
   "execution_count": 137,
   "metadata": {
    "collapsed": true
   },
   "outputs": [],
   "source": [
    "def checkPath(field,pos):\n",
    "    if field[pos[0],pos[1]] == 0:\n",
    "        return True\n",
    "    else:\n",
    "        return False"
   ]
  },
  {
   "cell_type": "code",
   "execution_count": 142,
   "metadata": {},
   "outputs": [],
   "source": [
    "#route[x][y] = cost\n",
    "def ToRouteData(field):\n",
    "    x_len = len(field[0])\n",
    "    y_len = len(field)\n",
    "    route = np.zeros_like(np.arange(x_len*y_len).reshape(x_len,y_len))\n",
    "#     for y in range(len(field)):\n",
    "#         for x in range(len(field[y])):\n",
    "#             if checkPath(field,[y,x]):\n",
    "                "
   ]
  },
  {
   "cell_type": "code",
   "execution_count": 141,
   "metadata": {
    "scrolled": true
   },
   "outputs": [
    {
     "name": "stdout",
     "output_type": "stream",
     "text": [
      "25\n"
     ]
    }
   ],
   "source": [
    "route = ToRouteData(field)"
   ]
  },
  {
   "cell_type": "code",
   "execution_count": null,
   "metadata": {
    "collapsed": true
   },
   "outputs": [],
   "source": []
  }
 ],
 "metadata": {
  "kernelspec": {
   "display_name": "Python 3",
   "language": "python",
   "name": "python3"
  },
  "language_info": {
   "codemirror_mode": {
    "name": "ipython",
    "version": 3
   },
   "file_extension": ".py",
   "mimetype": "text/x-python",
   "name": "python",
   "nbconvert_exporter": "python",
   "pygments_lexer": "ipython3",
   "version": "3.4.3"
  }
 },
 "nbformat": 4,
 "nbformat_minor": 2
}
