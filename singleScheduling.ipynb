{
 "cells": [
  {
   "cell_type": "code",
   "execution_count": 2,
   "metadata": {
    "collapsed": true
   },
   "outputs": [],
   "source": [
    "import numpy as np\n",
    "from numpy.random import *"
   ]
  },
  {
   "cell_type": "code",
   "execution_count": 41,
   "metadata": {
    "collapsed": true
   },
   "outputs": [],
   "source": [
    "def inputFieldData(text_path):\n",
    "    f = open(text_path)\n",
    "    line = f.readline()\n",
    "    line_count = 1\n",
    "    field_size = int(len(line) / 2)\n",
    "    field = np.empty((0,field_size),int)\n",
    "    agents_pos_list = []\n",
    "    while line:\n",
    "        last_idx = line.find(\"\\n\")\n",
    "        field_row = np.array([])\n",
    "        for i in range(0,last_idx,2):\n",
    "            field_row = np.append(field_row,int(line[i]))\n",
    "            if int(line[i]) == 2:\n",
    "                agents_pos_list.append([line_count-1,int(i/2)])\n",
    "        field = np.append(field,np.array([field_row]),axis=0)\n",
    "        line = f.readline()\n",
    "        line_count += 1\n",
    "    f.close()\n",
    "    return field,agents_pos_list"
   ]
  },
  {
   "cell_type": "code",
   "execution_count": 42,
   "metadata": {
    "scrolled": true
   },
   "outputs": [
    {
     "name": "stdout",
     "output_type": "stream",
     "text": [
      "[[ 1.  1.  1.  1.  1.  1.  1.  1.]\n",
      " [ 1.  0.  0.  0.  0.  1.  3.  1.]\n",
      " [ 1.  0.  0.  1.  0.  1.  0.  1.]\n",
      " [ 1.  0.  1.  0.  0.  0.  0.  1.]\n",
      " [ 1.  0.  0.  1.  0.  1.  0.  1.]\n",
      " [ 1.  0.  2.  1.  0.  0.  0.  1.]\n",
      " [ 1.  0.  0.  0.  0.  1.  0.  1.]\n",
      " [ 1.  1.  1.  1.  1.  1.  1.  1.]]\n",
      "agents_pos_list = [[5, 2]]\n"
     ]
    }
   ],
   "source": [
    "field,agents_pos_list = inputFieldData(\"singleAgentField2.txt\")\n",
    "print(field)\n",
    "print(\"agents_pos_list = {0}\".format(agents_pos_list))"
   ]
  },
  {
   "cell_type": "code",
   "execution_count": 31,
   "metadata": {
    "collapsed": true
   },
   "outputs": [],
   "source": [
    "field_row = len(field[0])\n",
    "field_col = len(field)\n",
    "q = np.zeros((field_col,field_row,4))\n",
    "reward = np.zeros((field_col,field_row))\n",
    "for i in range(field_row):\n",
    "    for j in range(field_col):\n",
    "        if field[i][j] == 1:\n",
    "            reward[i][j] = -100\n",
    "        elif field[i][j] == 3:\n",
    "            reward[i][j] = 10"
   ]
  },
  {
   "cell_type": "code",
   "execution_count": 32,
   "metadata": {
    "collapsed": true
   },
   "outputs": [],
   "source": [
    "alpha = 0.1\n",
    "q_gamma = 0.9"
   ]
  },
  {
   "cell_type": "markdown",
   "metadata": {},
   "source": [
    "## aboutAction\n",
    "action=0 : ↑\n",
    "action=1 : →\n",
    "action=2 : ↓\n",
    "action=3 : ←"
   ]
  },
  {
   "cell_type": "code",
   "execution_count": 33,
   "metadata": {
    "collapsed": true
   },
   "outputs": [],
   "source": [
    "def jumpToNextPos(pos,action):\n",
    "    if action == 0:\n",
    "        next_pos = [pos[0]-1,pos[1]]\n",
    "    elif action == 1:\n",
    "        next_pos = [pos[0],pos[1]+1]\n",
    "    elif action == 2:\n",
    "        next_pos = [pos[0]+1,pos[1]]\n",
    "    else:\n",
    "        next_pos = [pos[0],pos[1]-1]\n",
    "    return next_pos"
   ]
  },
  {
   "cell_type": "code",
   "execution_count": 34,
   "metadata": {
    "collapsed": true
   },
   "outputs": [],
   "source": [
    "def selectMaxActionQValue(pos):\n",
    "    return np.max(q[pos[0]][pos[1]])"
   ]
  },
  {
   "cell_type": "code",
   "execution_count": 35,
   "metadata": {
    "collapsed": true
   },
   "outputs": [],
   "source": [
    "def selectAction(pos,test=False):\n",
    "    action = np.argmax(q[pos[0],pos[1]])\n",
    "#     print(\"pos = {0},action={1}\".format(pos,action))\n",
    "    if test:\n",
    "        return action\n",
    "    if rand() <= 0.3:\n",
    "        action = int((action + rand() * 3 + 1)) % 4\n",
    "    return action"
   ]
  },
  {
   "cell_type": "code",
   "execution_count": 36,
   "metadata": {
    "collapsed": true
   },
   "outputs": [],
   "source": [
    "def checkPosition(pos,next_pos,action):\n",
    "    if next_pos[0] < 0 or next_pos[0] >= field_col or next_pos[1] < 0 or next_pos[1] >= field_row:\n",
    "        q[pos[0]][pos[1]][action] = -100\n",
    "        return True\n",
    "    else:\n",
    "        return False"
   ]
  },
  {
   "cell_type": "code",
   "execution_count": 38,
   "metadata": {
    "scrolled": true
   },
   "outputs": [
    {
     "name": "stdout",
     "output_type": "stream",
     "text": [
      "[[[-100.          -81.53618148  -81.54224498 -100.        ]\n",
      "  [-100.          -79.55390124   20.39055205 -171.91346145]\n",
      "  [-100.          -77.24131197   22.65616895  -81.61726809]\n",
      "  [-100.          -74.81829984   25.17352105  -79.60458631]\n",
      "  [-100.         -147.36841911   27.97057895  -77.34383103]\n",
      "  [-100.          -52.63157895  -52.63157895  -74.82647895]\n",
      "  [-100.         -147.36842105   52.63157895 -147.36842105]\n",
      "  [-100.         -100.          -52.63157895  -52.63157895]]\n",
      "\n",
      " [[-172.82505894   20.39055205  -83.24368793 -100.        ]\n",
      "  [ -81.64850315   22.65616895   18.35149685  -81.64850315]\n",
      "  [ -79.60944795   25.17352105   20.39055205   20.39055205]\n",
      "  [ -77.34383105   27.97057895  -72.02942105   22.65616895]\n",
      "  [ -74.82647895  -52.63157895   31.07842105   25.17352105]\n",
      "  [-147.36842105   52.63157895  -57.36842105   27.97057895]\n",
      "  [ -52.63157895  -52.63157895   47.36842105  -52.63157895]\n",
      "  [-147.36842105 -100.          -57.36842105   52.63157895]]\n",
      "\n",
      " [[ -81.16742581   18.35149685  -85.030371   -100.        ]\n",
      "  [  20.39055205   20.39055205   16.51634716  -83.48365284]\n",
      "  [  22.65616895  -72.02886254  -72.02853835   18.35140669]\n",
      "  [  25.17352105   31.07842105   31.07842099   20.39055205]\n",
      "  [  27.97057895  -57.36842105   34.53157895  -72.02942105]\n",
      "  [ -52.63157895   47.36842105   38.36842105   31.07842105]\n",
      "  [  52.63157895  -57.36842105   42.63157895  -57.36842105]\n",
      "  [ -52.63157895 -100.          -61.63157895   47.36842105]]\n",
      "\n",
      " [[ -83.15334149   16.51634716  -86.52043307 -100.        ]\n",
      "  [  18.35149685  -72.02942105   14.86471245  -85.13528755]\n",
      "  [  20.39054146   31.07842105   16.47755594   16.51634576]\n",
      "  [ -72.02942105   34.53157895  -72.02942105  -72.02942105]\n",
      "  [  31.07842105   38.36842105   31.07842105   31.07842105]\n",
      "  [ -57.36842105   42.63157895  -65.46842105   34.53157895]\n",
      "  [  47.36842105  -61.63157895   38.36842105   38.36842105]\n",
      "  [ -57.36842105 -100.          -65.46842105   42.63157895]]\n",
      "\n",
      " [[ -85.07923726   14.86471245  -86.71120209 -100.        ]\n",
      "  [  16.51634716   16.37971804   16.45588648  -86.6217588 ]\n",
      "  [ -72.02942105  -72.02942105   18.35149685   14.86471245]\n",
      "  [  31.07842105   31.07842101  -74.82647874   16.51633897]\n",
      "  [  34.53157895  -65.46842105   27.97057895  -72.02942105]\n",
      "  [  38.36842105   38.36842105   31.07842105   31.07842105]\n",
      "  [  42.63157895  -65.46842105   34.53157895  -65.46842105]\n",
      "  [ -61.63157895 -100.          -68.92157895   38.36842105]]\n",
      "\n",
      " [[ -85.31693565   16.51634344  -83.23823945 -100.        ]\n",
      "  [  14.86471245   18.35149685   18.35147249  -85.13532016]\n",
      "  [  16.51634716  -74.82647895   20.39055205   16.51634716]\n",
      "  [ -72.02942105   27.97057895   22.65616895   18.35149685]\n",
      "  [  31.07842105   31.07842105   25.17352105  -74.82647895]\n",
      "  [ -65.46842105   34.53157895  -72.02942105   27.97057895]\n",
      "  [  38.36842105  -68.92157895   31.07842105   31.07842105]\n",
      "  [ -65.46829861 -100.          -72.02855809   34.53157895]]\n",
      "\n",
      " [[ -80.5532205    18.35148125 -157.56984263 -100.        ]\n",
      "  [  16.51634707   20.39055205  -83.48366575  -83.48384201]\n",
      "  [  18.35149685   22.65616895  -81.64850315   18.35149685]\n",
      "  [ -74.82647895   25.17352105  -79.60944795   20.39055205]\n",
      "  [  27.97057895  -72.02942105  -77.34383105   22.65616895]\n",
      "  [  31.07842105   31.07841789 -164.82581839   25.17350362]\n",
      "  [  34.53157895  -72.02943141  -72.02949053  -72.02938577]\n",
      "  [ -67.2949154  -100.         -150.47147913   31.07842101]]\n",
      "\n",
      " [[ -80.8971324   -81.13729358 -100.         -100.        ]\n",
      "  [  18.35149685  -78.31376046 -100.         -163.67221771]\n",
      "  [  20.39055205  -79.60921351 -100.          -83.48365633]\n",
      "  [  22.65616895  -77.34368298 -100.          -81.64830465]\n",
      "  [  25.17352105 -164.81790355 -100.          -79.60935007]\n",
      "  [ -72.02933671  -72.02932913 -100.          -76.37286518]\n",
      "  [  31.07842105 -152.63475593 -100.         -158.25511554]\n",
      "  [ -69.7037706  -100.         -100.          -69.75421462]]]\n"
     ]
    }
   ],
   "source": [
    "for j in range(10000):\n",
    "    init_pos = [5,2]\n",
    "    pos = init_pos\n",
    "    for i in range(100):\n",
    "        action = selectAction(pos)\n",
    "        next_pos = updateQValue(pos,action)\n",
    "        pos = next_pos\n",
    "print(q)"
   ]
  },
  {
   "cell_type": "code",
   "execution_count": 39,
   "metadata": {
    "collapsed": true
   },
   "outputs": [],
   "source": [
    "def createPath(init_pos):\n",
    "    print(init_pos)\n",
    "    pos = init_pos\n",
    "    while field[pos[0],pos[1]] != 3:\n",
    "        action = selectAction(pos,test=True)\n",
    "        next_pos = jumpToNextPos(pos,action)\n",
    "        pos = next_pos\n",
    "        print(pos)"
   ]
  },
  {
   "cell_type": "code",
   "execution_count": 40,
   "metadata": {
    "scrolled": false
   },
   "outputs": [
    {
     "name": "stdout",
     "output_type": "stream",
     "text": [
      "[5, 2]\n",
      "[6, 2]\n",
      "[6, 3]\n",
      "[6, 4]\n",
      "[5, 4]\n",
      "[4, 4]\n",
      "[3, 4]\n",
      "[3, 5]\n",
      "[3, 6]\n",
      "[2, 6]\n",
      "[1, 6]\n"
     ]
    }
   ],
   "source": [
    "init_pos = [5,2]\n",
    "createPath(init_pos)"
   ]
  },
  {
   "cell_type": "code",
   "execution_count": null,
   "metadata": {
    "collapsed": true
   },
   "outputs": [],
   "source": []
  },
  {
   "cell_type": "code",
   "execution_count": null,
   "metadata": {
    "collapsed": true
   },
   "outputs": [],
   "source": []
  }
 ],
 "metadata": {
  "kernelspec": {
   "display_name": "Python 3",
   "language": "python",
   "name": "python3"
  },
  "language_info": {
   "codemirror_mode": {
    "name": "ipython",
    "version": 3
   },
   "file_extension": ".py",
   "mimetype": "text/x-python",
   "name": "python",
   "nbconvert_exporter": "python",
   "pygments_lexer": "ipython3",
   "version": "3.4.3"
  }
 },
 "nbformat": 4,
 "nbformat_minor": 2
}
