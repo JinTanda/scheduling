{
 "cells": [
  {
   "cell_type": "code",
   "execution_count": 744,
   "metadata": {
    "collapsed": true
   },
   "outputs": [],
   "source": [
    "import numpy as np\n",
    "import copy\n",
    "from sklearn.neural_network import MLPClassifier\n",
    "from numpy.random import *"
   ]
  },
  {
   "cell_type": "code",
   "execution_count": 768,
   "metadata": {
    "collapsed": true
   },
   "outputs": [],
   "source": [
    "def inputFieldData(text_path):\n",
    "    f = open(text_path)\n",
    "    line = f.readline()\n",
    "    line_count = 1\n",
    "    field_size = int(len(line) / 2)\n",
    "    field = np.empty((0,field_size),int)\n",
    "    agents_pos_list = []\n",
    "    while line:\n",
    "        last_idx = line.find(\"\\n\")\n",
    "        field_row = np.array([])\n",
    "        for i in range(0,last_idx,2):\n",
    "            field_row = np.append(field_row,int(line[i]))\n",
    "            if int(line[i]) == 2:\n",
    "                agents_pos_list.append([line_count-1,int(i/2)])\n",
    "        field = np.append(field,np.array([field_row]),axis=0)\n",
    "        line = f.readline()\n",
    "        line_count += 1\n",
    "    f.close()\n",
    "    return field,agents_pos_list"
   ]
  },
  {
   "cell_type": "code",
   "execution_count": 769,
   "metadata": {
    "scrolled": true
   },
   "outputs": [
    {
     "name": "stdout",
     "output_type": "stream",
     "text": [
      "[[ 1.  1.  1.  1.  1.  1.  1.  1.  1.  1.  1.]\n",
      " [ 1.  0.  0.  0.  1.  0.  0.  0.  0.  3.  1.]\n",
      " [ 1.  0.  1.  0.  1.  1.  1.  0.  1.  1.  1.]\n",
      " [ 1.  0.  0.  0.  1.  0.  1.  0.  0.  0.  1.]\n",
      " [ 1.  0.  1.  0.  1.  0.  1.  1.  1.  0.  1.]\n",
      " [ 1.  2.  1.  0.  0.  0.  0.  1.  0.  0.  1.]\n",
      " [ 1.  0.  0.  1.  0.  1.  0.  0.  0.  0.  1.]\n",
      " [ 1.  0.  0.  0.  1.  0.  0.  0.  1.  0.  1.]\n",
      " [ 1.  1.  1.  1.  1.  1.  1.  1.  1.  1.  1.]]\n",
      "agents_pos_list = [[5, 1]]\n"
     ]
    }
   ],
   "source": [
    "field,agents_pos_list = inputFieldData(\"singleAgentField.txt\")\n",
    "print(field)\n",
    "print(\"agents_pos_list = {0}\".format(agents_pos_list))"
   ]
  },
  {
   "cell_type": "code",
   "execution_count": 770,
   "metadata": {
    "collapsed": true
   },
   "outputs": [],
   "source": [
    "field_row = len(field[0])\n",
    "field_col = len(field)"
   ]
  },
  {
   "cell_type": "code",
   "execution_count": 771,
   "metadata": {
    "collapsed": true
   },
   "outputs": [],
   "source": [
    "alpha = 0.1\n",
    "q_gamma = 0.9\n",
    "now_pos_ground = 0"
   ]
  },
  {
   "cell_type": "markdown",
   "metadata": {},
   "source": [
    "## aboutAction\n",
    "action=0 : ↑\n",
    "action=1 : →\n",
    "action=2 : ↓\n",
    "action=3 : ←"
   ]
  },
  {
   "cell_type": "code",
   "execution_count": 772,
   "metadata": {
    "collapsed": true
   },
   "outputs": [],
   "source": [
    "def jumpToNextPos(pos,action):\n",
    "    if action == 0:\n",
    "        next_pos = [pos[0]-1,pos[1]]\n",
    "    elif action == 1:\n",
    "        next_pos = [pos[0],pos[1]+1]\n",
    "    elif action == 2:\n",
    "        next_pos = [pos[0]+1,pos[1]]\n",
    "    else:\n",
    "        next_pos = [pos[0],pos[1]-1]\n",
    "    return next_pos"
   ]
  },
  {
   "cell_type": "code",
   "execution_count": 773,
   "metadata": {
    "collapsed": true
   },
   "outputs": [],
   "source": [
    "def selectMaxActionQValue(pos):\n",
    "    return np.max(q[pos[0]][pos[1]])"
   ]
  },
  {
   "cell_type": "code",
   "execution_count": 774,
   "metadata": {
    "collapsed": true
   },
   "outputs": [],
   "source": [
    "def selectAction(pos,test=False):\n",
    "    action = np.argmax(q[pos[0],pos[1]])\n",
    "#     print(\"pos = {0},action={1}\".format(pos,action))\n",
    "    if test:\n",
    "        return action\n",
    "    if rand() <= 0.3:\n",
    "        action = int((action + rand() * 3 + 1)) % 4\n",
    "    return action"
   ]
  },
  {
   "cell_type": "code",
   "execution_count": 775,
   "metadata": {
    "collapsed": true
   },
   "outputs": [],
   "source": [
    "def checkPosition(pos,action,field):\n",
    "    r = action\n",
    "    next_pos = jumpToNextPos(pos,action)\n",
    "    while field[next_pos[0],next_pos[1]] == 1:\n",
    "        r = int(rand()*4)\n",
    "        while r == action:\n",
    "            r = int(rand()*4)\n",
    "        next_pos = jumpToNextPos(pos,r)\n",
    "    return r"
   ]
  },
  {
   "cell_type": "code",
   "execution_count": 776,
   "metadata": {
    "collapsed": true
   },
   "outputs": [],
   "source": [
    "def updateQValue(pos,action):\n",
    "    next_pos = jumpToNextPos(pos,action)\n",
    "    if checkPosition(pos,next_pos,action):\n",
    "        return pos\n",
    "    next_max_q_value = selectMaxActionQValue(next_pos)\n",
    "    q[pos[0]][pos[1]][action] = q[pos[0]][pos[1]][action] + alpha*(reward[next_pos[0]][next_pos[1]] + q_gamma * next_max_q_value - q[pos[0]][pos[1]][action])\n",
    "    return next_pos"
   ]
  },
  {
   "cell_type": "code",
   "execution_count": 777,
   "metadata": {
    "collapsed": true
   },
   "outputs": [],
   "source": [
    "def buildNetwork(X_train,y_train):\n",
    "    clf = MLPClassifier(solver=\"adam\",random_state=1,max_iter=1000,hidden_layer_sizes=(20,50,10))\n",
    "    print(\"X_train.shape = {0},y_train.shape={1}\".format(X_train.shape,y_train.shape))\n",
    "    print(\"y_train={0}\".format(y_train))\n",
    "    clf.fit(X_train,y_train)\n",
    "    return clf"
   ]
  },
  {
   "cell_type": "code",
   "execution_count": 778,
   "metadata": {
    "collapsed": true
   },
   "outputs": [],
   "source": [
    "def initNetwork(field):\n",
    "    X_train = np.asarray([field])\n",
    "    X_train = X_train.reshape(1,field_row*field_col)\n",
    "    y_train = np.array([[0]])\n",
    "    clf = buildNetwork(X_train,y_train)\n",
    "    return clf"
   ]
  },
  {
   "cell_type": "code",
   "execution_count": 779,
   "metadata": {
    "collapsed": true
   },
   "outputs": [],
   "source": [
    "def predictAction(clf,field):\n",
    "    X_test = np.asarray(field).reshape(1,field_row*field_col)\n",
    "    action = clf.predict(X_test)[0]\n",
    "    if rand() < 0.3:\n",
    "        action = int((action + rand() * 3 + 1)) % 4\n",
    "    return action"
   ]
  },
  {
   "cell_type": "code",
   "execution_count": 780,
   "metadata": {
    "collapsed": true
   },
   "outputs": [],
   "source": [
    "def createTrainData(init_pos,field,clf=None):\n",
    "    createFlag = False\n",
    "    field_data = [copy.deepcopy(field)]\n",
    "    action_data = []\n",
    "    global now_pos_ground\n",
    "    pos = init_pos\n",
    "    for i in range(FIND_ROOT_MAX_LOOP):\n",
    "        if clf != None:\n",
    "            pred_action = predictAction(clf,field)\n",
    "        else:\n",
    "            pred_action = int(rand()*4)\n",
    "        action = checkPosition(pos,pred_action,field)\n",
    "        action_data.append(action)\n",
    "        next_pos = jumpToNextPos(pos,action)\n",
    "#         print(\"next_pos = {0}\".format(next_pos))\n",
    "        now_pos_ground = updateField(pos,next_pos,field)\n",
    "        if now_pos_ground == 3:\n",
    "#             printFieldData(field_data,action_data)\n",
    "            createFlag = True\n",
    "            break\n",
    "        field_data.append(copy.deepcopy(field))\n",
    "        pos = next_pos\n",
    "    return field_data,action_data,createFlag"
   ]
  },
  {
   "cell_type": "code",
   "execution_count": 781,
   "metadata": {
    "collapsed": true
   },
   "outputs": [],
   "source": [
    "def printFieldData(field_data,action_data):\n",
    "    print(\"------------------------------------------------\")\n",
    "    for i in range(len(field_data)):\n",
    "        print(field_data[i])\n",
    "        print(action_data[i])\n",
    "    print(\"------------------------------------------------\")"
   ]
  },
  {
   "cell_type": "code",
   "execution_count": 787,
   "metadata": {
    "scrolled": false
   },
   "outputs": [
    {
     "name": "stdout",
     "output_type": "stream",
     "text": [
      "init_field = \n",
      "[[ 1.  1.  1.  1.  1.  1.  1.  1.  1.  1.  1.]\n",
      " [ 1.  0.  0.  0.  1.  0.  0.  0.  0.  3.  1.]\n",
      " [ 1.  0.  1.  0.  1.  1.  1.  0.  1.  1.  1.]\n",
      " [ 1.  0.  0.  0.  1.  0.  1.  0.  0.  0.  1.]\n",
      " [ 1.  0.  1.  0.  1.  0.  1.  1.  1.  0.  1.]\n",
      " [ 1.  2.  1.  0.  0.  0.  0.  1.  0.  0.  1.]\n",
      " [ 1.  0.  0.  1.  0.  1.  0.  0.  0.  0.  1.]\n",
      " [ 1.  0.  0.  0.  1.  0.  0.  0.  1.  0.  1.]\n",
      " [ 1.  1.  1.  1.  1.  1.  1.  1.  1.  1.  1.]]\n",
      "epoch = 10\n",
      "epoch = 20\n",
      "epoch = 30\n",
      "epoch = 40\n",
      "epoch = 50\n",
      "epoch = 60\n",
      "epoch = 70\n",
      "epoch = 80\n",
      "epoch = 90\n",
      "epoch = 100\n",
      "epoch = 110\n",
      "X_train.shape = (52, 99),y_train.shape=(52,)\n",
      "y_train=[0 2 0 2 0 0 0 0 1 3 2 2 2 2 2 0 0 2 0 0 1 1 2 2 1 1 1 2 1 1 3 1 3 1 1 0 0\n",
      " 2 2 2 0 3 0 1 0 0 3 3 0 0 1 1]\n",
      "epoch = 120\n",
      "epoch = 130\n",
      "epoch = 140\n",
      "epoch = 150\n",
      "epoch = 160\n",
      "X_train.shape = (44, 99),y_train.shape=(44,)\n",
      "y_train=[0 2 0 0 0 2 0 2 1 1 2 2 1 1 1 2 1 1 3 1 3 1 3 1 3 3 2 3 1 1 0 1 3 1 0 1 0\n",
      " 0 3 3 0 0 1 1]\n",
      "X_train.shape = (42, 99),y_train.shape=(42,)\n",
      "y_train=[0 0 2 0 0 2 1 1 2 2 1 2 0 1 1 2 2 1 0 1 3 1 3 2 0 1 3 1 0 1 0 0 2 0 3 3 1\n",
      " 3 0 0 1 1]\n",
      "epoch = 170\n",
      "epoch = 180\n",
      "epoch = 190\n",
      "epoch = 200\n",
      "epoch = 210\n",
      "epoch = 220\n",
      "epoch = 230\n",
      "epoch = 240\n",
      "epoch = 250\n",
      "epoch = 260\n",
      "epoch = 270\n",
      "epoch = 280\n",
      "epoch = 290\n",
      "epoch = 300\n",
      "epoch = 310\n",
      "epoch = 320\n",
      "epoch = 330\n",
      "epoch = 340\n",
      "epoch = 350\n",
      "epoch = 360\n",
      "epoch = 370\n",
      "epoch = 380\n",
      "epoch = 390\n",
      "X_train.shape = (34, 99),y_train.shape=(34,)\n",
      "y_train=[0 0 2 0 2 0 1 1 3 1 2 0 2 2 1 1 1 2 0 2 1 1 1 0 0 2 0 0 3 3 0 0 1 1]\n",
      "epoch = 400\n",
      "epoch = 410\n",
      "X_train.shape = (26, 99),y_train.shape=(26,)\n",
      "y_train=[0 0 1 1 2 0 2 2 1 1 1 2 0 2 1 1 1 0 0 0 3 3 0 0 1 1]\n",
      "epoch = 420\n",
      "epoch = 430\n",
      "epoch = 440\n",
      "epoch = 450\n",
      "epoch = 460\n",
      "epoch = 470\n",
      "epoch = 480\n",
      "epoch = 490\n",
      "epoch = 500\n",
      "epoch = 510\n",
      "epoch = 520\n",
      "epoch = 530\n",
      "epoch = 540\n",
      "epoch = 550\n",
      "epoch = 560\n",
      "epoch = 570\n",
      "epoch = 580\n",
      "epoch = 590\n",
      "epoch = 600\n",
      "epoch = 610\n",
      "epoch = 620\n",
      "epoch = 630\n",
      "epoch = 640\n",
      "epoch = 650\n",
      "epoch = 660\n",
      "epoch = 670\n",
      "X_train.shape = (24, 99),y_train.shape=(24,)\n",
      "y_train=[0 0 1 1 2 2 1 1 1 2 1 1 1 0 0 0 3 3 0 0 3 1 1 1]\n",
      "epoch = 680\n",
      "epoch = 690\n",
      "epoch = 700\n",
      "epoch = 710\n",
      "epoch = 720\n",
      "epoch = 730\n",
      "epoch = 740\n",
      "epoch = 750\n",
      "epoch = 760\n",
      "epoch = 770\n",
      "epoch = 780\n",
      "epoch = 790\n",
      "epoch = 800\n",
      "epoch = 810\n",
      "epoch = 820\n",
      "epoch = 830\n",
      "epoch = 840\n",
      "epoch = 850\n",
      "epoch = 860\n",
      "epoch = 870\n",
      "epoch = 880\n",
      "epoch = 890\n",
      "epoch = 900\n",
      "epoch = 910\n",
      "epoch = 920\n",
      "epoch = 930\n",
      "epoch = 940\n",
      "epoch = 950\n",
      "epoch = 960\n",
      "epoch = 970\n",
      "epoch = 980\n",
      "epoch = 990\n",
      "X_train.shape = (22, 99),y_train.shape=(22,)\n",
      "y_train=[0 0 1 1 2 2 1 1 1 2 1 1 1 0 0 0 3 3 0 0 1 1]\n",
      "epoch = 1000\n"
     ]
    }
   ],
   "source": [
    "FIND_ROOT_MAX_LOOP = 100\n",
    "field,agents_pos_list = inputFieldData(\"singleAgentField.txt\")\n",
    "print(\"init_field = \\n{0}\".format(field))\n",
    "clf = None\n",
    "path_count = 1e+7\n",
    "pathes = []\n",
    "for i in range(1000):\n",
    "    createFlag = False\n",
    "    now_pos_ground = 0\n",
    "    field,agents_pos_list = inputFieldData(\"singleAgentField.txt\")\n",
    "    if (i+1) % 10 == 0:  \n",
    "        print(\"epoch = {0}\".format(i+1))\n",
    "    if clf == None:\n",
    "        field_data,action_data,createFlag = createTrainData([5,1],field)\n",
    "    else:\n",
    "        field_data,action_data,createFlag = createTrainData([5,1],field,clf)\n",
    "    if createFlag:\n",
    "        np_field_data = np.asarray(field_data)\n",
    "        np_action_data = np.asarray(action_data)\n",
    "        if path_count > np_field_data.shape[0]:\n",
    "            path_count = np_field_data.shape[0]\n",
    "            clf = buildNetwork(np_field_data.reshape(np_field_data.shape[0],np_field_data.shape[1]*np_field_data.shape[2]),np_action_data)\n",
    "            pathes.append(action_data)"
   ]
  },
  {
   "cell_type": "code",
   "execution_count": 788,
   "metadata": {},
   "outputs": [
    {
     "name": "stdout",
     "output_type": "stream",
     "text": [
      "[0, 2, 0, 2, 0, 0, 0, 0, 1, 3, 2, 2, 2, 2, 2, 0, 0, 2, 0, 0, 1, 1, 2, 2, 1, 1, 1, 2, 1, 1, 3, 1, 3, 1, 1, 0, 0, 2, 2, 2, 0, 3, 0, 1, 0, 0, 3, 3, 0, 0, 1, 1]\n",
      "[0, 2, 0, 0, 0, 2, 0, 2, 1, 1, 2, 2, 1, 1, 1, 2, 1, 1, 3, 1, 3, 1, 3, 1, 3, 3, 2, 3, 1, 1, 0, 1, 3, 1, 0, 1, 0, 0, 3, 3, 0, 0, 1, 1]\n",
      "[0, 0, 2, 0, 0, 2, 1, 1, 2, 2, 1, 2, 0, 1, 1, 2, 2, 1, 0, 1, 3, 1, 3, 2, 0, 1, 3, 1, 0, 1, 0, 0, 2, 0, 3, 3, 1, 3, 0, 0, 1, 1]\n",
      "[0, 0, 2, 0, 2, 0, 1, 1, 3, 1, 2, 0, 2, 2, 1, 1, 1, 2, 0, 2, 1, 1, 1, 0, 0, 2, 0, 0, 3, 3, 0, 0, 1, 1]\n",
      "[0, 0, 1, 1, 2, 0, 2, 2, 1, 1, 1, 2, 0, 2, 1, 1, 1, 0, 0, 0, 3, 3, 0, 0, 1, 1]\n",
      "[0, 0, 1, 1, 2, 2, 1, 1, 1, 2, 1, 1, 1, 0, 0, 0, 3, 3, 0, 0, 3, 1, 1, 1]\n",
      "[0, 0, 1, 1, 2, 2, 1, 1, 1, 2, 1, 1, 1, 0, 0, 0, 3, 3, 0, 0, 1, 1]\n"
     ]
    }
   ],
   "source": [
    "for path in pathes:\n",
    "    print(path)"
   ]
  },
  {
   "cell_type": "code",
   "execution_count": 789,
   "metadata": {},
   "outputs": [
    {
     "name": "stdout",
     "output_type": "stream",
     "text": [
      "[[ 1.  1.  1.  1.  1.  1.  1.  1.  1.  1.  1.]\n",
      " [ 1.  0.  0.  0.  1.  0.  0.  0.  0.  2.  1.]\n",
      " [ 1.  0.  1.  0.  1.  1.  1.  0.  1.  1.  1.]\n",
      " [ 1.  0.  0.  0.  1.  0.  1.  0.  0.  0.  1.]\n",
      " [ 1.  0.  1.  0.  1.  0.  1.  1.  1.  0.  1.]\n",
      " [ 1.  0.  1.  0.  0.  0.  0.  1.  0.  0.  1.]\n",
      " [ 1.  0.  0.  1.  0.  1.  0.  0.  0.  0.  1.]\n",
      " [ 1.  0.  0.  0.  1.  0.  0.  0.  1.  0.  1.]\n",
      " [ 1.  1.  1.  1.  1.  1.  1.  1.  1.  1.  1.]]\n"
     ]
    }
   ],
   "source": [
    "print(field)"
   ]
  },
  {
   "cell_type": "code",
   "execution_count": null,
   "metadata": {
    "collapsed": true
   },
   "outputs": [],
   "source": []
  }
 ],
 "metadata": {
  "kernelspec": {
   "display_name": "Python 3",
   "language": "python",
   "name": "python3"
  },
  "language_info": {
   "codemirror_mode": {
    "name": "ipython",
    "version": 3
   },
   "file_extension": ".py",
   "mimetype": "text/x-python",
   "name": "python",
   "nbconvert_exporter": "python",
   "pygments_lexer": "ipython3",
   "version": "3.4.3"
  }
 },
 "nbformat": 4,
 "nbformat_minor": 2
}
